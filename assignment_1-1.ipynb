{
 "cells": [
  {
   "cell_type": "markdown",
   "id": "87b91d83",
   "metadata": {},
   "source": [
    "# Assignment 1\n",
    "### Understanding Uncertainty\n",
    "### Due 9/5\n",
    "\n",
    "Sophie Kim"
   ]
  },
  {
   "cell_type": "markdown",
   "id": "380e339f",
   "metadata": {},
   "source": [
    "1. Create a new public repo on Github under your account. Include a readme file.\n",
    "2. Clone it to your machine. Put this file into that repo.\n",
    "3. Use the following function to download the example data for the course:"
   ]
  },
  {
   "cell_type": "code",
   "execution_count": 1,
   "id": "2d62b4f6",
   "metadata": {},
   "outputs": [
    {
     "name": "stdout",
     "output_type": "stream",
     "text": [
      "Download file already exists\n",
      "Data directory already exists\n"
     ]
    }
   ],
   "source": [
    "def download_data(force=False):\n",
    "    \"\"\"Download and extract course data from Zenodo.\"\"\"\n",
    "    import urllib.request, zipfile, os\n",
    "    \n",
    "    zip_path = 'data.zip'\n",
    "    data_dir = 'data'\n",
    "    \n",
    "    if not os.path.exists(zip_path) or force:\n",
    "        print(\"Downloading course data\")\n",
    "        urllib.request.urlretrieve(\n",
    "            'https://zenodo.org/records/16954427/files/data.zip?download=1',\n",
    "            zip_path\n",
    "        )\n",
    "        print(\"Download complete\")\n",
    "    else:\n",
    "        print(\"Download file already exists\")\n",
    "        \n",
    "    if not os.path.exists(data_dir) or force:\n",
    "        print(\"Extracting data files...\")\n",
    "        with zipfile.ZipFile(zip_path, 'r') as zip_ref:\n",
    "            zip_ref.extractall(data_dir)\n",
    "        print(\"Data extracted\")\n",
    "    else:\n",
    "        print(\"Data directory already exists\")\n",
    "\n",
    "download_data()"
   ]
  },
  {
   "cell_type": "markdown",
   "id": "01db0045",
   "metadata": {},
   "source": [
    "4. Open one of the datasets using Pandas:\n",
    "    1. `ames_prices.csv`: Housing characteristics and prices\n",
    "    2. `college_completion.csv`: Public, nonprofit, and for-profit educational institutions, graduation rates, and financial aid\n",
    "    3. `ForeignGifts_edu.csv`: Monetary and in-kind transfers from foreign entities to U.S. educational institutions\n",
    "    4. `iowa.csv`: Liquor sales in Iowa, at the transaction level\n",
    "    5. `metabric.csv`: Cancer patient and outcome data\n",
    "    6. `mn_police_use_of_force.csv`: Records of physical altercations between Minnessota police and private citizens\n",
    "    7. `nhanes_data_17_18.csv`: National Health and Nutrition Examination Survey\n",
    "    8. `tuna.csv`: Yellowfin Tuna Genome (I don't recommend this one; it's just a sequence of G, C, A, T )\n",
    "    9. `va_procurement.csv`: Public spending by the state of Virginia"
   ]
  },
  {
   "cell_type": "code",
   "execution_count": 2,
   "id": "38a2081b",
   "metadata": {},
   "outputs": [],
   "source": [
    "import pandas as pd\n",
    "import numpy as np"
   ]
  },
  {
   "cell_type": "code",
   "execution_count": 3,
   "id": "1ecce00c",
   "metadata": {},
   "outputs": [],
   "source": [
    "mn_police_data = pd.read_csv(\"data/mn_police_use_of_force.csv\")"
   ]
  },
  {
   "cell_type": "markdown",
   "id": "fa5cade1",
   "metadata": {},
   "source": [
    "5. Pick two or three variables and briefly analyze them\n",
    "    - Is it a categorical or numeric variable?\n",
    "    - How many missing values are there? (`df['var'].isna()` and `np.sum()`)\n",
    "    - If categorical, tabulate the values (`df['var'].value_counts()`) and if numeric, get a summary (`df['var'].describe()`)"
   ]
  },
  {
   "cell_type": "code",
   "execution_count": 4,
   "id": "29ef7506",
   "metadata": {},
   "outputs": [
    {
     "data": {
      "application/vnd.microsoft.datawrangler.viewer.v0+json": {
       "columns": [
        {
         "name": "index",
         "rawType": "int64",
         "type": "integer"
        },
        {
         "name": "response_datetime",
         "rawType": "object",
         "type": "string"
        },
        {
         "name": "problem",
         "rawType": "object",
         "type": "string"
        },
        {
         "name": "is_911_call",
         "rawType": "object",
         "type": "string"
        },
        {
         "name": "primary_offense",
         "rawType": "object",
         "type": "string"
        },
        {
         "name": "subject_injury",
         "rawType": "object",
         "type": "unknown"
        },
        {
         "name": "force_type",
         "rawType": "object",
         "type": "string"
        },
        {
         "name": "force_type_action",
         "rawType": "object",
         "type": "string"
        },
        {
         "name": "race",
         "rawType": "object",
         "type": "unknown"
        },
        {
         "name": "sex",
         "rawType": "object",
         "type": "unknown"
        },
        {
         "name": "age",
         "rawType": "float64",
         "type": "float"
        },
        {
         "name": "type_resistance",
         "rawType": "object",
         "type": "unknown"
        },
        {
         "name": "precinct",
         "rawType": "int64",
         "type": "integer"
        },
        {
         "name": "neighborhood",
         "rawType": "object",
         "type": "unknown"
        }
       ],
       "ref": "1815aa67-737a-4555-b474-8401c23fd5ec",
       "rows": [
        [
         "0",
         "2016/01/01 00:47:36",
         "Assault in Progress ",
         "Yes",
         "DASLT1",
         null,
         "Bodily Force",
         "Body Weight to Pin",
         "Black",
         "Male",
         "20.0",
         "Tensed",
         "1",
         "Downtown East"
        ],
        [
         "1",
         "2016/01/01 02:19:34",
         "Fight ",
         "No",
         "DISCON",
         null,
         "Chemical Irritant",
         "Personal Mace",
         "Black",
         "Female",
         "27.0",
         "Verbal Non-Compliance",
         "1",
         "Downtown West"
        ],
        [
         "2",
         "2016/01/01 02:19:34",
         "Fight ",
         "No",
         "DISCON",
         null,
         "Chemical Irritant",
         "Personal Mace",
         "White",
         "Female",
         "23.0",
         "Verbal Non-Compliance",
         "1",
         "Downtown West"
        ],
        [
         "3",
         "2016/01/01 02:28:48",
         "Fight ",
         "No",
         "PRIORI",
         null,
         "Chemical Irritant",
         "Crowd Control Mace",
         "Black",
         "Male",
         "20.0",
         "Commission of Crime",
         "1",
         "Downtown West"
        ],
        [
         "4",
         "2016/01/01 02:28:48",
         "Fight ",
         "No",
         "PRIORI",
         null,
         "Chemical Irritant",
         "Crowd Control Mace",
         "Black",
         "Male",
         "20.0",
         "Commission of Crime",
         "1",
         "Downtown West"
        ],
        [
         "5",
         "2016/01/01 02:28:48",
         "Fight ",
         "No",
         "PRIORI",
         null,
         "Chemical Irritant",
         "Crowd Control Mace",
         "Black",
         "Male",
         "20.0",
         "Commission of Crime",
         "1",
         "Downtown West"
        ],
        [
         "6",
         "2016/01/01 02:28:48",
         "Fight ",
         "No",
         "PRIORI",
         null,
         "Chemical Irritant",
         "Crowd Control Mace",
         "Black",
         "Female",
         "20.0",
         "Commission of Crime",
         "1",
         "Downtown West"
        ],
        [
         "7",
         "2016/01/01 02:28:48",
         "Fight ",
         "No",
         "PRIORI",
         null,
         "Chemical Irritant",
         "Crowd Control Mace",
         "Black",
         "Male",
         "20.0",
         "Commission of Crime",
         "1",
         "Downtown West"
        ],
        [
         "8",
         "2016/01/01 02:28:48",
         "Fight ",
         "No",
         "PRIORI",
         null,
         "Chemical Irritant",
         "Crowd Control Mace",
         "Black",
         "Male",
         "20.0",
         "Unspecified",
         "1",
         "Downtown West"
        ],
        [
         "9",
         "2016/01/01 02:38:23",
         "Fight ",
         "No",
         "DISCON",
         "No",
         "Chemical Irritant",
         "Crowd Control Mace",
         "Black",
         "Male",
         "18.0",
         "commission of crime",
         "1",
         "Downtown West"
        ],
        [
         "10",
         "2016/01/01 02:38:23",
         "Fight ",
         "No",
         "DISCON",
         "No",
         "Chemical Irritant",
         "Chemical Munitions",
         "Black",
         "Male",
         "18.0",
         "commission of crime",
         "1",
         "Downtown West"
        ],
        [
         "11",
         "2016/01/01 02:39:47",
         "Suspicious Person ",
         "No",
         "DISCON",
         "Yes",
         "Bodily Force",
         "Body Weight to Pin",
         "Black",
         "Male",
         "21.0",
         "Tensed",
         "5",
         "Lowry Hill East"
        ],
        [
         "12",
         "2016/01/01 02:39:47",
         "Suspicious Person ",
         "No",
         "DISCON",
         "Yes",
         "Bodily Force",
         "Joint Lock",
         "Black",
         "Male",
         "21.0",
         "Tensed",
         "5",
         "Lowry Hill East"
        ],
        [
         "13",
         "2016/01/01 02:39:47",
         "Suspicious Person ",
         "No",
         "DISCON",
         "Yes",
         "Bodily Force",
         "Body Weight to Pin",
         "Black",
         "Male",
         "21.0",
         "Tensed",
         "5",
         "Lowry Hill East"
        ],
        [
         "14",
         "2016/01/01 03:11:20",
         "Chase on Foot ",
         "No",
         "FLEE",
         "No",
         "Bodily Force",
         "Body Weight to Pin",
         "Black",
         "Male",
         "17.0",
         "Fled in Vehicle",
         "3",
         "Ventura Village"
        ],
        [
         "15",
         "2016/01/01 03:11:20",
         "Chase on Foot ",
         "No",
         "FLEE",
         "No",
         "Bodily Force",
         "Knees",
         "Black",
         "Male",
         "17.0",
         "Fled in Vehicle",
         "3",
         "Ventura Village"
        ],
        [
         "16",
         "2016/01/01 03:22:39",
         "Fight ",
         "No",
         "FORCE",
         null,
         "Chemical Irritant",
         "Personal Mace",
         "Black",
         "Male",
         "18.0",
         "Verbal Non-Compliance",
         "1",
         "Downtown West"
        ],
        [
         "17",
         "2016/01/01 03:22:39",
         "Fight ",
         "No",
         "FORCE",
         null,
         "Chemical Irritant",
         "Personal Mace",
         "Black",
         "Male",
         "18.0",
         "Verbal Non-Compliance",
         "1",
         "Downtown West"
        ],
        [
         "18",
         "2016/01/01 15:22:04",
         "Check the Welfare ",
         "Yes",
         "THREAT",
         null,
         "Bodily Force",
         "Body Weight to Pin",
         "Native American",
         "Male",
         "63.0",
         "Commission of Crime",
         "5",
         "Lyndale"
        ],
        [
         "19",
         "2016/01/01 17:47:46",
         "Unwanted Person ",
         "Yes",
         "FORCE",
         "No",
         "Bodily Force",
         "Knees",
         "White",
         "Male",
         "26.0",
         "Tensed",
         "5",
         "Whittier"
        ],
        [
         "20",
         "2016/01/02 20:09:25",
         "Suspicious Person ",
         "No",
         "OBSTRU",
         null,
         "Bodily Force",
         "Joint Lock",
         "Black",
         "Male",
         "43.0",
         "Tensed",
         "4",
         "Folwell"
        ],
        [
         "21",
         "2016/01/02 20:09:25",
         "Suspicious Person ",
         "No",
         "OBSTRU",
         null,
         "Bodily Force",
         "Push Away",
         "Black",
         "Male",
         "43.0",
         "Tensed",
         "4",
         "Folwell"
        ],
        [
         "22",
         "2016/01/02 20:09:25",
         "Suspicious Person ",
         "No",
         "OBSTRU",
         null,
         "Bodily Force",
         "Body Weight to Pin",
         "Black",
         "Male",
         "43.0",
         "Tensed",
         "4",
         "Folwell"
        ],
        [
         "23",
         "2016/01/03 00:33:28",
         "Stabbing ",
         "No",
         "ASLT2",
         "No",
         "Taser",
         "Red Dot",
         "Black",
         "Male",
         "27.0",
         "Commission of Crime",
         "1",
         "Downtown West"
        ],
        [
         "24",
         "2016/01/03 00:33:28",
         "Stabbing ",
         "No",
         "ASLT2",
         "No",
         "Bodily Force",
         "Body Weight to Pin",
         "Black",
         "Male",
         "27.0",
         "Commission of Crime",
         "1",
         "Downtown West"
        ],
        [
         "25",
         "2016/01/03 01:43:45",
         "Disturbance ",
         "No",
         "ASLT4",
         "Yes",
         "Bodily Force",
         "Punches",
         "White",
         "Male",
         "25.0",
         "Assaulted Officer",
         "1",
         "Downtown West"
        ],
        [
         "26",
         "2016/01/03 02:00:41",
         "Fight ",
         "No",
         "FORCE",
         null,
         "Chemical Irritant",
         "Personal Mace",
         "Black",
         "Female",
         "22.0",
         "Commission of Crime",
         "4",
         "Hawthorne"
        ],
        [
         "27",
         "2016/01/03 02:00:41",
         "Fight ",
         "No",
         "FORCE",
         null,
         "Chemical Irritant",
         "Personal Mace",
         "Black",
         "Male",
         "25.0",
         "Commission of Crime",
         "4",
         "Hawthorne"
        ],
        [
         "28",
         "2016/01/03 02:00:41",
         "Fight ",
         "No",
         "FORCE",
         null,
         "Chemical Irritant",
         "Personal Mace",
         "Black",
         "Male",
         "22.0",
         "Commission of Crime",
         "4",
         "Hawthorne"
        ],
        [
         "29",
         "2016/01/03 02:15:28",
         "Disturbance ",
         "No",
         "DISCON",
         null,
         "Chemical Irritant",
         "Crowd Control Mace",
         "White",
         "Male",
         "22.0",
         "Commission of Crime",
         "2",
         "Marcy Holmes"
        ],
        [
         "30",
         "2016/01/03 02:22:18",
         "Fight ",
         "No",
         "FORCE",
         null,
         "Chemical Irritant",
         "Personal Mace",
         "Black",
         "Male",
         "18.0",
         "Commission of Crime",
         "1",
         "Downtown West"
        ],
        [
         "31",
         "2016/01/03 02:48:32",
         "Suspicious Person ",
         "No",
         "OBSTRU",
         null,
         "Bodily Force",
         "Push Away",
         "White",
         "Female",
         "24.0",
         "Commission of Crime",
         "1",
         "Downtown West"
        ],
        [
         "32",
         "2016/01/04 00:44:33",
         "Domestic Abuse-In Progress ",
         "Yes",
         "OBSTRU",
         "No",
         "Improvised Weapon",
         "Other (specify)",
         "Black",
         "Male",
         "22.0",
         "Commission of Crime",
         "4",
         "Willard - Hay"
        ],
        [
         "33",
         "2016/01/04 00:44:33",
         "Domestic Abuse-In Progress ",
         "Yes",
         "OBSTRU",
         "No",
         "Bodily Force",
         "Body Weight to Pin",
         "Black",
         "Male",
         "22.0",
         "Commission of Crime",
         "4",
         "Willard - Hay"
        ],
        [
         "34",
         "2016/01/04 00:44:33",
         "Domestic Abuse-In Progress ",
         "Yes",
         "OBSTRU",
         "No",
         "Bodily Force",
         "Joint Lock",
         "Black",
         "Male",
         "22.0",
         "Commission of Crime",
         "4",
         "Willard - Hay"
        ],
        [
         "35",
         "2016/01/04 00:44:33",
         "Domestic Abuse-In Progress ",
         "Yes",
         "OBSTRU",
         "No",
         "Bodily Force",
         "Body Weight to Pin",
         "Black",
         "Male",
         "22.0",
         "Commission of Crime",
         "4",
         "Willard - Hay"
        ],
        [
         "36",
         "2016/01/04 00:44:33",
         "Domestic Abuse-In Progress ",
         "Yes",
         "OBSTRU",
         "No",
         "Improvised Weapon",
         "Other (specify)",
         "Black",
         "Male",
         "22.0",
         "Commission of Crime",
         "4",
         "Willard - Hay"
        ],
        [
         "37",
         "2016/01/04 09:01:44",
         "Domestic Abuse-In Progress ",
         "Yes",
         "ASLT4",
         "Yes",
         "Bodily Force",
         "Knees",
         "Black",
         "Male",
         "22.0",
         "Assaulted Officer",
         "4",
         "Willard - Hay"
        ],
        [
         "38",
         "2016/01/04 09:01:44",
         "Domestic Abuse-In Progress ",
         "Yes",
         "ASLT4",
         "Yes",
         "Taser",
         "Firing Darts",
         "Black",
         "Male",
         "22.0",
         "Assaulted Officer",
         "4",
         "Willard - Hay"
        ],
        [
         "39",
         "2016/01/04 09:01:44",
         "Domestic Abuse-In Progress ",
         "Yes",
         "ASLT4",
         "Yes",
         "Bodily Force",
         "Conscious Neck Restraint",
         "Black",
         "Male",
         "22.0",
         "Assaulted Officer",
         "4",
         "Willard - Hay"
        ],
        [
         "40",
         "2016/01/04 09:01:44",
         "Domestic Abuse-In Progress ",
         "Yes",
         "ASLT4",
         "Yes",
         "Bodily Force",
         "Punches",
         "Black",
         "Male",
         "22.0",
         "Assaulted Officer",
         "4",
         "Willard - Hay"
        ],
        [
         "41",
         "2016/01/04 09:01:44",
         "Domestic Abuse-In Progress ",
         "Yes",
         "ASLT4",
         "Yes",
         "Bodily Force",
         "Punches",
         "Black",
         "Male",
         "22.0",
         "Assaulted Officer",
         "4",
         "Willard - Hay"
        ],
        [
         "42",
         "2016/01/04 09:01:44",
         "Domestic Abuse-In Progress ",
         "Yes",
         "ASLT4",
         "Yes",
         "Bodily Force",
         "Push Away",
         "Black",
         "Male",
         "22.0",
         "Assaulted Officer",
         "4",
         "Willard - Hay"
        ],
        [
         "43",
         "2016/01/04 18:12:59",
         "Unknown Trouble ",
         "No",
         "ASLT4",
         "Yes",
         "Bodily Force",
         "Body Weight to Pin",
         "White",
         "Male",
         "54.0",
         "Assaulted Officer",
         "2",
         "Audubon Park"
        ],
        [
         "44",
         "2016/01/04 18:12:59",
         "Unknown Trouble ",
         "No",
         "ASLT4",
         "Yes",
         "Bodily Force",
         "Push Away",
         "White",
         "Male",
         "54.0",
         "Assaulted Officer",
         "2",
         "Audubon Park"
        ],
        [
         "45",
         "2016/01/05 07:55:02",
         "Emotionally Disturb Person ",
         "Yes",
         "DASLT5",
         null,
         "Bodily Force",
         "Body Weight to Pin",
         "White",
         "Male",
         "14.0",
         "Tensed",
         "5",
         "Fulton"
        ],
        [
         "46",
         "2016/01/05 07:55:02",
         "Emotionally Disturb Person ",
         "Yes",
         "DASLT5",
         null,
         "Bodily Force",
         "Body Weight to Pin",
         "White",
         "Male",
         "14.0",
         "Tensed",
         "5",
         "Fulton"
        ],
        [
         "47",
         "2016/01/05 07:55:02",
         "Emotionally Disturb Person ",
         "Yes",
         "DASLT5",
         null,
         "Bodily Force",
         "Joint Lock",
         "White",
         "Male",
         "14.0",
         "Tensed",
         "5",
         "Fulton"
        ],
        [
         "48",
         "2016/01/05 07:55:02",
         "Emotionally Disturb Person ",
         "Yes",
         "DASLT5",
         null,
         "Bodily Force",
         "Joint Lock",
         "White",
         "Male",
         "14.0",
         "Tensed",
         "5",
         "Fulton"
        ],
        [
         "49",
         "2016/01/05 18:34:15",
         "Burglary Dwlng In Progress ",
         "Yes",
         "OBSTRU",
         null,
         "Bodily Force",
         "Joint Lock",
         "Black",
         "Female",
         "20.0",
         "Tensed",
         "4",
         "Harrison"
        ]
       ],
       "shape": {
        "columns": 13,
        "rows": 12925
       }
      },
      "text/html": [
       "<div>\n",
       "<style scoped>\n",
       "    .dataframe tbody tr th:only-of-type {\n",
       "        vertical-align: middle;\n",
       "    }\n",
       "\n",
       "    .dataframe tbody tr th {\n",
       "        vertical-align: top;\n",
       "    }\n",
       "\n",
       "    .dataframe thead th {\n",
       "        text-align: right;\n",
       "    }\n",
       "</style>\n",
       "<table border=\"1\" class=\"dataframe\">\n",
       "  <thead>\n",
       "    <tr style=\"text-align: right;\">\n",
       "      <th></th>\n",
       "      <th>response_datetime</th>\n",
       "      <th>problem</th>\n",
       "      <th>is_911_call</th>\n",
       "      <th>primary_offense</th>\n",
       "      <th>subject_injury</th>\n",
       "      <th>force_type</th>\n",
       "      <th>force_type_action</th>\n",
       "      <th>race</th>\n",
       "      <th>sex</th>\n",
       "      <th>age</th>\n",
       "      <th>type_resistance</th>\n",
       "      <th>precinct</th>\n",
       "      <th>neighborhood</th>\n",
       "    </tr>\n",
       "  </thead>\n",
       "  <tbody>\n",
       "    <tr>\n",
       "      <th>0</th>\n",
       "      <td>2016/01/01 00:47:36</td>\n",
       "      <td>Assault in Progress</td>\n",
       "      <td>Yes</td>\n",
       "      <td>DASLT1</td>\n",
       "      <td>NaN</td>\n",
       "      <td>Bodily Force</td>\n",
       "      <td>Body Weight to Pin</td>\n",
       "      <td>Black</td>\n",
       "      <td>Male</td>\n",
       "      <td>20.0</td>\n",
       "      <td>Tensed</td>\n",
       "      <td>1</td>\n",
       "      <td>Downtown East</td>\n",
       "    </tr>\n",
       "    <tr>\n",
       "      <th>1</th>\n",
       "      <td>2016/01/01 02:19:34</td>\n",
       "      <td>Fight</td>\n",
       "      <td>No</td>\n",
       "      <td>DISCON</td>\n",
       "      <td>NaN</td>\n",
       "      <td>Chemical Irritant</td>\n",
       "      <td>Personal Mace</td>\n",
       "      <td>Black</td>\n",
       "      <td>Female</td>\n",
       "      <td>27.0</td>\n",
       "      <td>Verbal Non-Compliance</td>\n",
       "      <td>1</td>\n",
       "      <td>Downtown West</td>\n",
       "    </tr>\n",
       "    <tr>\n",
       "      <th>2</th>\n",
       "      <td>2016/01/01 02:19:34</td>\n",
       "      <td>Fight</td>\n",
       "      <td>No</td>\n",
       "      <td>DISCON</td>\n",
       "      <td>NaN</td>\n",
       "      <td>Chemical Irritant</td>\n",
       "      <td>Personal Mace</td>\n",
       "      <td>White</td>\n",
       "      <td>Female</td>\n",
       "      <td>23.0</td>\n",
       "      <td>Verbal Non-Compliance</td>\n",
       "      <td>1</td>\n",
       "      <td>Downtown West</td>\n",
       "    </tr>\n",
       "    <tr>\n",
       "      <th>3</th>\n",
       "      <td>2016/01/01 02:28:48</td>\n",
       "      <td>Fight</td>\n",
       "      <td>No</td>\n",
       "      <td>PRIORI</td>\n",
       "      <td>NaN</td>\n",
       "      <td>Chemical Irritant</td>\n",
       "      <td>Crowd Control Mace</td>\n",
       "      <td>Black</td>\n",
       "      <td>Male</td>\n",
       "      <td>20.0</td>\n",
       "      <td>Commission of Crime</td>\n",
       "      <td>1</td>\n",
       "      <td>Downtown West</td>\n",
       "    </tr>\n",
       "    <tr>\n",
       "      <th>4</th>\n",
       "      <td>2016/01/01 02:28:48</td>\n",
       "      <td>Fight</td>\n",
       "      <td>No</td>\n",
       "      <td>PRIORI</td>\n",
       "      <td>NaN</td>\n",
       "      <td>Chemical Irritant</td>\n",
       "      <td>Crowd Control Mace</td>\n",
       "      <td>Black</td>\n",
       "      <td>Male</td>\n",
       "      <td>20.0</td>\n",
       "      <td>Commission of Crime</td>\n",
       "      <td>1</td>\n",
       "      <td>Downtown West</td>\n",
       "    </tr>\n",
       "    <tr>\n",
       "      <th>...</th>\n",
       "      <td>...</td>\n",
       "      <td>...</td>\n",
       "      <td>...</td>\n",
       "      <td>...</td>\n",
       "      <td>...</td>\n",
       "      <td>...</td>\n",
       "      <td>...</td>\n",
       "      <td>...</td>\n",
       "      <td>...</td>\n",
       "      <td>...</td>\n",
       "      <td>...</td>\n",
       "      <td>...</td>\n",
       "      <td>...</td>\n",
       "    </tr>\n",
       "    <tr>\n",
       "      <th>12920</th>\n",
       "      <td>2021/08/30 21:38:46</td>\n",
       "      <td>Assault in Progress</td>\n",
       "      <td>Yes</td>\n",
       "      <td>ASLT5</td>\n",
       "      <td>NaN</td>\n",
       "      <td>Bodily Force</td>\n",
       "      <td>Joint Lock</td>\n",
       "      <td>White</td>\n",
       "      <td>Female</td>\n",
       "      <td>69.0</td>\n",
       "      <td>NaN</td>\n",
       "      <td>1</td>\n",
       "      <td>Loring Park</td>\n",
       "    </tr>\n",
       "    <tr>\n",
       "      <th>12921</th>\n",
       "      <td>2021/08/30 22:32:22</td>\n",
       "      <td>Unwanted Person</td>\n",
       "      <td>Yes</td>\n",
       "      <td>CIC</td>\n",
       "      <td>NaN</td>\n",
       "      <td>Bodily Force</td>\n",
       "      <td>Joint Lock</td>\n",
       "      <td>NaN</td>\n",
       "      <td>NaN</td>\n",
       "      <td>NaN</td>\n",
       "      <td>NaN</td>\n",
       "      <td>1</td>\n",
       "      <td>Cedar Riverside</td>\n",
       "    </tr>\n",
       "    <tr>\n",
       "      <th>12922</th>\n",
       "      <td>2021/08/31 12:03:08</td>\n",
       "      <td>Overdose w/All</td>\n",
       "      <td>Yes</td>\n",
       "      <td>FORCE</td>\n",
       "      <td>NaN</td>\n",
       "      <td>Bodily Force</td>\n",
       "      <td>Body Weight Pin</td>\n",
       "      <td>Black</td>\n",
       "      <td>Male</td>\n",
       "      <td>NaN</td>\n",
       "      <td>NaN</td>\n",
       "      <td>3</td>\n",
       "      <td>Seward</td>\n",
       "    </tr>\n",
       "    <tr>\n",
       "      <th>12923</th>\n",
       "      <td>2021/08/31 12:52:52</td>\n",
       "      <td>Attempt Pick-Up</td>\n",
       "      <td>No</td>\n",
       "      <td>WT</td>\n",
       "      <td>NaN</td>\n",
       "      <td>Bodily Force</td>\n",
       "      <td>Body Weight Pin</td>\n",
       "      <td>Black</td>\n",
       "      <td>Male</td>\n",
       "      <td>31.0</td>\n",
       "      <td>NaN</td>\n",
       "      <td>4</td>\n",
       "      <td>Camden Industrial</td>\n",
       "    </tr>\n",
       "    <tr>\n",
       "      <th>12924</th>\n",
       "      <td>2021/08/31 21:34:29</td>\n",
       "      <td>Unwanted Person</td>\n",
       "      <td>No</td>\n",
       "      <td>FORCE</td>\n",
       "      <td>NaN</td>\n",
       "      <td>Bodily Force</td>\n",
       "      <td>Push Away</td>\n",
       "      <td>White</td>\n",
       "      <td>Male</td>\n",
       "      <td>NaN</td>\n",
       "      <td>X</td>\n",
       "      <td>1</td>\n",
       "      <td>North Loop</td>\n",
       "    </tr>\n",
       "  </tbody>\n",
       "</table>\n",
       "<p>12925 rows × 13 columns</p>\n",
       "</div>"
      ],
      "text/plain": [
       "         response_datetime               problem is_911_call primary_offense  \\\n",
       "0      2016/01/01 00:47:36  Assault in Progress          Yes          DASLT1   \n",
       "1      2016/01/01 02:19:34                Fight           No          DISCON   \n",
       "2      2016/01/01 02:19:34                Fight           No          DISCON   \n",
       "3      2016/01/01 02:28:48                Fight           No          PRIORI   \n",
       "4      2016/01/01 02:28:48                Fight           No          PRIORI   \n",
       "...                    ...                   ...         ...             ...   \n",
       "12920  2021/08/30 21:38:46  Assault in Progress          Yes        ASLT5      \n",
       "12921  2021/08/30 22:32:22      Unwanted Person          Yes        CIC        \n",
       "12922  2021/08/31 12:03:08       Overdose w/All          Yes        FORCE      \n",
       "12923  2021/08/31 12:52:52      Attempt Pick-Up           No        WT         \n",
       "12924  2021/08/31 21:34:29      Unwanted Person           No        FORCE      \n",
       "\n",
       "      subject_injury         force_type   force_type_action   race     sex  \\\n",
       "0                NaN       Bodily Force  Body Weight to Pin  Black    Male   \n",
       "1                NaN  Chemical Irritant       Personal Mace  Black  Female   \n",
       "2                NaN  Chemical Irritant       Personal Mace  White  Female   \n",
       "3                NaN  Chemical Irritant  Crowd Control Mace  Black    Male   \n",
       "4                NaN  Chemical Irritant  Crowd Control Mace  Black    Male   \n",
       "...              ...                ...                 ...    ...     ...   \n",
       "12920            NaN       Bodily Force          Joint Lock  White  Female   \n",
       "12921            NaN       Bodily Force          Joint Lock    NaN     NaN   \n",
       "12922            NaN       Bodily Force     Body Weight Pin  Black    Male   \n",
       "12923            NaN       Bodily Force     Body Weight Pin  Black    Male   \n",
       "12924            NaN       Bodily Force           Push Away  White    Male   \n",
       "\n",
       "        age        type_resistance  precinct       neighborhood  \n",
       "0      20.0                 Tensed         1      Downtown East  \n",
       "1      27.0  Verbal Non-Compliance         1      Downtown West  \n",
       "2      23.0  Verbal Non-Compliance         1      Downtown West  \n",
       "3      20.0    Commission of Crime         1      Downtown West  \n",
       "4      20.0    Commission of Crime         1      Downtown West  \n",
       "...     ...                    ...       ...                ...  \n",
       "12920  69.0                    NaN         1        Loring Park  \n",
       "12921   NaN                    NaN         1    Cedar Riverside  \n",
       "12922   NaN                    NaN         3             Seward  \n",
       "12923  31.0                    NaN         4  Camden Industrial  \n",
       "12924   NaN                      X         1         North Loop  \n",
       "\n",
       "[12925 rows x 13 columns]"
      ]
     },
     "execution_count": 4,
     "metadata": {},
     "output_type": "execute_result"
    }
   ],
   "source": [
    "# looking at data\n",
    "mn_police_data"
   ]
  },
  {
   "cell_type": "code",
   "execution_count": 6,
   "id": "4e525bf1",
   "metadata": {},
   "outputs": [
    {
     "data": {
      "application/vnd.microsoft.datawrangler.viewer.v0+json": {
       "columns": [
        {
         "name": "index",
         "rawType": "object",
         "type": "string"
        },
        {
         "name": "age",
         "rawType": "float64",
         "type": "float"
        }
       ],
       "ref": "b908a251-d1a6-4b89-8816-9bbbf02f1ef5",
       "rows": [
        [
         "count",
         "11859.0"
        ],
        [
         "mean",
         "29.48452651994266"
        ],
        [
         "std",
         "10.98778017115357"
        ],
        [
         "min",
         "0.0"
        ],
        [
         "25%",
         "22.0"
        ],
        [
         "50%",
         "28.0"
        ],
        [
         "75%",
         "35.0"
        ],
        [
         "max",
         "82.0"
        ]
       ],
       "shape": {
        "columns": 1,
        "rows": 8
       }
      },
      "text/plain": [
       "count    11859.000000\n",
       "mean        29.484527\n",
       "std         10.987780\n",
       "min          0.000000\n",
       "25%         22.000000\n",
       "50%         28.000000\n",
       "75%         35.000000\n",
       "max         82.000000\n",
       "Name: age, dtype: float64"
      ]
     },
     "execution_count": 6,
     "metadata": {},
     "output_type": "execute_result"
    }
   ],
   "source": [
    "mn_police_data[\"age\"].describe()"
   ]
  },
  {
   "cell_type": "code",
   "execution_count": 7,
   "id": "2e32e8a8",
   "metadata": {},
   "outputs": [
    {
     "data": {
      "text/plain": [
       "np.int64(1066)"
      ]
     },
     "execution_count": 7,
     "metadata": {},
     "output_type": "execute_result"
    }
   ],
   "source": [
    "na_police = mn_police_data['age'].isna() \n",
    "np.sum(na_police)"
   ]
  },
  {
   "cell_type": "markdown",
   "id": "88fe3472",
   "metadata": {},
   "source": [
    "**Age variable**\n",
    "The age variable in this dataset is a numeric variable. There are 1,066 NAs in the variable. The average age is around 29 years old with a standard deviation of around 11 years. The median age is 28, with 25% of ages below 22 years old and 75% of ages falling below 35 years old. The highest age is 82 years old. "
   ]
  },
  {
   "cell_type": "code",
   "execution_count": 8,
   "id": "d791977d",
   "metadata": {},
   "outputs": [
    {
     "data": {
      "application/vnd.microsoft.datawrangler.viewer.v0+json": {
       "columns": [
        {
         "name": "force_type_action",
         "rawType": "object",
         "type": "string"
        },
        {
         "name": "count",
         "rawType": "int64",
         "type": "integer"
        }
       ],
       "ref": "f4c53d9b-5c93-453e-8778-b2f14e8ff65c",
       "rows": [
        [
         "Body Weight Pin",
         "2651"
        ],
        [
         "Body Weight to Pin",
         "1711"
        ],
        [
         "Joint Lock",
         "1578"
        ],
        [
         "Takedown",
         "1330"
        ],
        [
         "Crowd Control Mace",
         "899"
        ],
        [
         "Push Away",
         "828"
        ],
        [
         "Personal Mace",
         "669"
        ],
        [
         "Firing Darts",
         "426"
        ],
        [
         "Red Dot",
         "353"
        ],
        [
         "Display",
         "349"
        ],
        [
         "Punches",
         "288"
        ],
        [
         "Punch",
         "231"
        ],
        [
         "Knees",
         "208"
        ],
        [
         "Knee",
         "203"
        ],
        [
         "Side Recovery Position",
         "149"
        ],
        [
         "Touch",
         "141"
        ],
        [
         "Kicks",
         "130"
        ],
        [
         "Compliance",
         "104"
        ],
        [
         "Conscious Neck Restraint",
         "92"
        ],
        [
         "Bean Bag Round",
         "90"
        ],
        [
         "Neck Restraint: subject did not lose conciousness",
         "79"
        ],
        [
         "Other Improvised Weapon",
         "57"
        ],
        [
         "Other (specify)",
         "57"
        ],
        [
         "On Lead",
         "44"
        ],
        [
         "Arcing",
         "38"
        ],
        [
         "Off Lead",
         "33"
        ],
        [
         "Slap",
         "31"
        ],
        [
         "Slaps",
         "31"
        ],
        [
         "Unconscious Neck Restraint",
         "25"
        ],
        [
         "Chemical Munitions",
         "25"
        ],
        [
         "Not Side Recovery Position",
         "21"
        ],
        [
         "Flashlight",
         "18"
        ],
        [
         "Neck Restraint: subject lost conciousness",
         "14"
        ],
        [
         "Bicycle",
         "8"
        ],
        [
         "Firearm as striking tool",
         "5"
        ],
        [
         "Strikes",
         "2"
        ],
        [
         "Hand Gun",
         "2"
        ],
        [
         "Firearms As Striking Tool",
         "2"
        ],
        [
         "Jabs",
         "1"
        ],
        [
         "Vehicle",
         "1"
        ],
        [
         "Crowd Control Techniques",
         "1"
        ]
       ],
       "shape": {
        "columns": 1,
        "rows": 41
       }
      },
      "text/plain": [
       "force_type_action\n",
       "Body Weight Pin                                      2651\n",
       "Body Weight to Pin                                   1711\n",
       "Joint Lock                                           1578\n",
       "Takedown                                             1330\n",
       "Crowd Control Mace                                    899\n",
       "Push Away                                             828\n",
       "Personal Mace                                         669\n",
       "Firing Darts                                          426\n",
       "Red Dot                                               353\n",
       "Display                                               349\n",
       "Punches                                               288\n",
       "Punch                                                 231\n",
       "Knees                                                 208\n",
       "Knee                                                  203\n",
       "Side Recovery Position                                149\n",
       "Touch                                                 141\n",
       "Kicks                                                 130\n",
       "Compliance                                            104\n",
       "Conscious Neck Restraint                               92\n",
       "Bean Bag Round                                         90\n",
       "Neck Restraint: subject did not lose conciousness      79\n",
       "Other Improvised Weapon                                57\n",
       "Other (specify)                                        57\n",
       "On Lead                                                44\n",
       "Arcing                                                 38\n",
       "Off Lead                                               33\n",
       "Slap                                                   31\n",
       "Slaps                                                  31\n",
       "Unconscious Neck Restraint                             25\n",
       "Chemical Munitions                                     25\n",
       "Not Side Recovery Position                             21\n",
       "Flashlight                                             18\n",
       "Neck Restraint: subject lost conciousness              14\n",
       "Bicycle                                                 8\n",
       "Firearm as striking tool                                5\n",
       "Strikes                                                 2\n",
       "Hand Gun                                                2\n",
       "Firearms As Striking Tool                               2\n",
       "Jabs                                                    1\n",
       "Vehicle                                                 1\n",
       "Crowd Control Techniques                                1\n",
       "Name: count, dtype: int64"
      ]
     },
     "execution_count": 8,
     "metadata": {},
     "output_type": "execute_result"
    }
   ],
   "source": [
    "mn_police_data['force_type_action'].value_counts()"
   ]
  },
  {
   "cell_type": "code",
   "execution_count": 9,
   "id": "c36d7aea",
   "metadata": {},
   "outputs": [
    {
     "data": {
      "text/plain": [
       "np.int64(0)"
      ]
     },
     "execution_count": 9,
     "metadata": {},
     "output_type": "execute_result"
    }
   ],
   "source": [
    "force_action_police = mn_police_data['force_type_action'].isna()\n",
    "np.sum(force_action_police)"
   ]
  },
  {
   "cell_type": "markdown",
   "id": "d2cba83b",
   "metadata": {},
   "source": [
    "**Force type action variable**\n",
    "\n",
    "The force type action variable is a categorical variable. There were 0 NAs in this column. The top force type action was body weight pin with the second being body weight to pin. The three smallest force type action counts were jabs, vehicle, and crowd control techniques. "
   ]
  },
  {
   "cell_type": "markdown",
   "id": "dbf2318a",
   "metadata": {},
   "source": [
    "6. What are some questions and prediction tools you could create using these data? Who would the stakeholder be for that prediction tool? What practical or ethical questions would it create? What other data would you want, that are not available in your data?"
   ]
  },
  {
   "cell_type": "markdown",
   "id": "9a7c91f5",
   "metadata": {},
   "source": [
    "***Questions and prediction tools that I could create with this data are:***\n",
    "1. *What is the likeliness of a certain crime being committed a specific neighborhood?*\n",
    "2. *What race is more likely to encounter police force?*\n",
    "3. *Which type of problem commonly is reported by a 911 phone call?*\n",
    "\n",
    "\n",
    "*Since these questions are all predicting categorical variables, I think a contingency table would help to predict.*"
   ]
  },
  {
   "cell_type": "markdown",
   "id": "c44b6c33",
   "metadata": {},
   "source": [
    "***The stakeholders for these questions:***\n",
    "1. *The residents of the neighborhoods to be aware of what crimes are most common for public safety reasons.*\n",
    "2. *This is generally good information to prevent race bias among police and for public awareness in general.*\n",
    "3. *This could be helpful for 911 dispatchers since they could perhaps find a more streamlined question/answer process that would help to gather information from the caller more efficiently.*"
   ]
  },
  {
   "cell_type": "markdown",
   "id": "666b21e7",
   "metadata": {},
   "source": [
    "***Practical or ethical questions:***\n",
    "\n",
    "1. *I think that this question could help people who are moving to a certain area to see what crimes are most likely to occur in that neighborhood.*\n",
    "2. *I think that this ethical question could create a lot of further ethical questions surrounding racial bias in police. Practically, I think that any information from this question could be implemented in some sort of training module for police.*\n",
    "3. *I think that this question (as I mentioned earlier) can create practical questions for 911 dispatchers to help streamline their calls to get the information from callers as quickly as they can.*"
   ]
  },
  {
   "cell_type": "markdown",
   "id": "a4a7ddc7",
   "metadata": {},
   "source": [
    "7. Commit your work to the repo (`git commit -am 'Finish assignment'` at the command line, or use the Git panel in VS Code). Push your work back to Github and submit the link on Canvas in the assignment tab."
   ]
  }
 ],
 "metadata": {
  "kernelspec": {
   "display_name": "msds",
   "language": "python",
   "name": "python3"
  },
  "language_info": {
   "codemirror_mode": {
    "name": "ipython",
    "version": 3
   },
   "file_extension": ".py",
   "mimetype": "text/x-python",
   "name": "python",
   "nbconvert_exporter": "python",
   "pygments_lexer": "ipython3",
   "version": "3.13.2"
  }
 },
 "nbformat": 4,
 "nbformat_minor": 5
}
