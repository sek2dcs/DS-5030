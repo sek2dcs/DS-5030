{
 "cells": [
  {
   "cell_type": "markdown",
   "id": "87b91d83",
   "metadata": {},
   "source": [
    "# Assignment 2\n",
    "### Understanding Uncertainty\n",
    "### Due 9/12\n",
    "\n",
    "Sophie Kim"
   ]
  },
  {
   "cell_type": "markdown",
   "id": "380e339f",
   "metadata": {},
   "source": [
    "1. 'State Bottle Retail' is the price at which the bottle is sold, while 'State Bottle Cost' is the price the state pays for a bottle.\n",
    "- How do you define the most profitable item? Why? Explain your thinking.\n",
    "- Use `.groupby` calculations to determine the most profitable liquors sold in Iowa.\n",
    "- Make a plot of the top liquors."
   ]
  },
  {
   "cell_type": "code",
   "execution_count": 28,
   "id": "e1b8b009",
   "metadata": {},
   "outputs": [],
   "source": [
    "import pandas as pd\n",
    "import numpy as np\n",
    "import seaborn as sns"
   ]
  },
  {
   "cell_type": "code",
   "execution_count": 29,
   "id": "303ace69",
   "metadata": {},
   "outputs": [],
   "source": [
    "iowa = pd.read_csv(\"/Users/sophiekim/Desktop/msds/ds 5030/week 3/data/iowa.csv\")"
   ]
  },
  {
   "cell_type": "markdown",
   "id": "95e9bcf2",
   "metadata": {},
   "source": [
    "*I would define the most profitable item as the difference between the state bottle retail price and the state bottle cost. This would be because the net profit would be whatever money is leftover after the store paid the state bottle cost. I think the most profitable item would also depend on how many are sold since even if a bottle is pretty cheaply priced, Iowa could be selling a lot, which would make it more profitable than an expensive bottle that doesn't sell frequently.*"
   ]
  },
  {
   "cell_type": "code",
   "execution_count": 44,
   "id": "7c858e6f",
   "metadata": {},
   "outputs": [
    {
     "data": {
      "application/vnd.microsoft.datawrangler.viewer.v0+json": {
       "columns": [
        {
         "name": "index",
         "rawType": "int64",
         "type": "integer"
        },
        {
         "name": "Invoice/Item Number",
         "rawType": "object",
         "type": "string"
        },
        {
         "name": "Date",
         "rawType": "object",
         "type": "string"
        },
        {
         "name": "Store Number",
         "rawType": "int64",
         "type": "integer"
        },
        {
         "name": "Store Name",
         "rawType": "object",
         "type": "string"
        },
        {
         "name": "Zip Code",
         "rawType": "object",
         "type": "unknown"
        },
        {
         "name": "Category Name",
         "rawType": "object",
         "type": "unknown"
        },
        {
         "name": "Vendor Name",
         "rawType": "object",
         "type": "string"
        },
        {
         "name": "Item Number",
         "rawType": "int64",
         "type": "integer"
        },
        {
         "name": "Item Description",
         "rawType": "object",
         "type": "string"
        },
        {
         "name": "Bottle Volume (ml)",
         "rawType": "int64",
         "type": "integer"
        },
        {
         "name": "State Bottle Cost",
         "rawType": "float64",
         "type": "float"
        },
        {
         "name": "State Bottle Retail",
         "rawType": "float64",
         "type": "float"
        },
        {
         "name": "Bottles Sold",
         "rawType": "int64",
         "type": "integer"
        },
        {
         "name": "Sale (Dollars)",
         "rawType": "float64",
         "type": "float"
        },
        {
         "name": "profitable_bottles",
         "rawType": "float64",
         "type": "float"
        }
       ],
       "ref": "7cc8250a-48e3-43b9-81db-394a5ab673f9",
       "rows": [
        [
         "0",
         "INV-59108400026",
         "06/06/2023",
         "3723",
         "J D SPIRITS LIQUOR",
         "51040",
         "STRAIGHT RYE WHISKIES",
         "INFINIUM SPIRITS",
         "27102",
         "TEMPLETON RYE 4YR",
         "750",
         "18.09",
         "27.14",
         "2",
         "54.28",
         "9.05"
        ],
        [
         "1",
         "S16879800057",
         "01/16/2014",
         "3926",
         "LIQUOR DOWNTOWN / IOWA CITY",
         "52240",
         "VODKA 80 PROOF",
         "HEAVEN HILL BRANDS",
         "35416",
         "BURNETT'S VODKA 80 PRF",
         "750",
         "4.84",
         "7.26",
         "12",
         "87.12",
         "2.42"
        ],
        [
         "2",
         "INV-05301100019",
         "06/05/2017",
         "3829",
         "GARY'S FOODS / MT VERNON",
         "52314",
         "CANADIAN WHISKIES",
         "DIAGEO AMERICAS",
         "11296",
         "CROWN ROYAL",
         "750",
         "15.59",
         "23.39",
         "6",
         "135.66",
         "7.800000000000001"
        ],
        [
         "3",
         "INV-40973500083",
         "10/14/2021",
         "5102",
         "WILKIE LIQUORS",
         "52314",
         "AMERICAN SCHNAPPS",
         "JIM BEAM BRANDS",
         "82787",
         "DEKUYPER BUTTERSHOTS",
         "1000",
         "7.87",
         "11.81",
         "12",
         "141.72",
         "3.9400000000000004"
        ],
        [
         "4",
         "INV-17022500013",
         "01/18/2019",
         "2560",
         "HY-VEE FOOD STORE / MARION",
         "52302",
         "WHISKEY LIQUEUR",
         "SAZERAC COMPANY  INC",
         "64863",
         "FIREBALL CINNAMON WHISKEY",
         "200",
         "2.5",
         "3.75",
         "12",
         "45.0",
         "1.25"
        ],
        [
         "5",
         "S32243000024",
         "05/10/2016",
         "5167",
         "NEW STAR LIQUOR & TOBACCO  / FT DODG",
         "50501",
         "IRISH WHISKIES",
         "PERNOD RICARD USA/AUSTIN NICHOLS",
         "15677",
         "POWERS IRISH WHISKEY",
         "1000",
         "16.49",
         "24.74",
         "1",
         "24.74",
         "8.25"
        ],
        [
         "6",
         "S16316700048",
         "12/18/2013",
         "2536",
         "HY-VEE / PLEASANT HILL",
         "50317",
         "PUERTO RICO & VIRGIN ISLANDS RUM",
         "BACARDI U.S.A., INC.",
         "43036",
         "BACARDI GOLD RUM",
         "750",
         "7.54",
         "11.31",
         "12",
         "135.72",
         "3.7700000000000005"
        ],
        [
         "7",
         "INV-84044800086",
         "06/30/2025",
         "2637",
         "HY-VEE #5 / DAVENPORT",
         "52804",
         "AMERICAN BRANDIES",
         "SAZERAC COMPANY  INC",
         "55066",
         "MR BOSTON BLACKBERRY BRANDY",
         "750",
         "5.0",
         "7.5",
         "12",
         "90.0",
         "2.5"
        ],
        [
         "8",
         "INV-14344700002",
         "09/10/2018",
         "3611",
         "LOGAN SUPER FOODS",
         "51546",
         "CANADIAN WHISKIES",
         "JIM BEAM BRANDS",
         "15246",
         "WINDSOR CANADIAN",
         "750",
         "4.67",
         "7.01",
         "12",
         "84.12",
         "2.34"
        ],
        [
         "9",
         "S08759700117",
         "11/05/2012",
         "2623",
         "HY-VEE FOOD STORE #4 / SIOUX CITY",
         "51104",
         "SPICED RUM",
         "DIAGEO AMERICAS",
         "43334",
         "CAPTAIN MORGAN SPICED RUM",
         "375",
         "4.5",
         "6.74",
         "6",
         "40.44",
         "2.24"
        ],
        [
         "10",
         "INV-42530100003",
         "12/02/2021",
         "4200",
         "FAREWAY STORES #019 / SIOUX CITY",
         "51108",
         "TENNESSEE WHISKIES",
         "BROWN FORMAN CORP.",
         "86670",
         "JACK DANIELS TENNESSEE HONEY",
         "750",
         "15.57",
         "23.36",
         "12",
         "280.32",
         "7.789999999999999"
        ],
        [
         "11",
         "S27608800016",
         "08/31/2015",
         "2460",
         "LIQUOR BARN, INC.",
         "50441",
         "TEQUILA",
         "PROXIMO",
         "89197",
         "JOSE CUERVO ESPECIAL REPOSADO TEQUILA",
         "1000",
         "12.5",
         "18.75",
         "12",
         "225.0",
         "6.25"
        ],
        [
         "12",
         "INV-19691600001",
         "05/30/2019",
         "5293",
         "THE BOONEDOCKS",
         "51331",
         "IMPORTED FLAVORED VODKA",
         "PERNOD RICARD USA",
         "34117",
         "ABSOLUT MANDRIN",
         "1000",
         "14.99",
         "22.49",
         "3",
         "67.47",
         "7.499999999999998"
        ],
        [
         "13",
         "INV-12636900132",
         "06/13/2018",
         "2501",
         "HY-VEE  #2 / AMES",
         "50010",
         "AMERICAN FLAVORED VODKA",
         "DIAGEO AMERICAS",
         "77870",
         "SMIRNOFF SOURS FRUIT PUNCH",
         "750",
         "8.25",
         "12.38",
         "12",
         "148.56",
         "4.130000000000001"
        ],
        [
         "14",
         "INV-63703900043",
         "10/27/2023",
         "2606",
         "HY-VEE WINE AND SPIRITS / HUMBOLDT",
         "50548",
         "COCKTAILS/RTD",
         "PROXIMO",
         "58872",
         "JOSE CUERVO AUTHENTIC LIGHT LIME MARGARITA",
         "1750",
         "8.74",
         "13.11",
         "6",
         "78.66",
         "4.369999999999999"
        ],
        [
         "15",
         "INV-20770900015",
         "07/22/2019",
         "5360",
         "SUPER SAVER LIQUOR",
         "52802",
         "AMERICAN VODKAS",
         "MCCORMICK DISTILLING CO.",
         "36903",
         "MCCORMICK VODKA",
         "200",
         "1.13",
         "1.7",
         "48",
         "81.6",
         "0.5700000000000001"
        ],
        [
         "16",
         "INV-70783900001",
         "06/02/2024",
         "4359",
         "KUM & GO #75 / WAUKEE",
         "50263",
         "CANADIAN WHISKIES",
         "DIAGEO AMERICAS",
         "11294",
         "CROWN ROYAL",
         "375",
         "8.49",
         "12.74",
         "12",
         "152.88",
         "4.25"
        ],
        [
         "17",
         "INV-03805800143",
         "03/15/2017",
         "2603",
         "HY-VEE WINE AND SPIRITS / BETTENDORF",
         "52722",
         "TENNESSEE WHISKIES",
         "BROWN FORMAN CORP.",
         "26828",
         "JACK DANIELS OLD #7 BLACK LBL",
         "1750",
         "30.68",
         "46.02",
         "3",
         "138.06",
         "15.340000000000003"
        ],
        [
         "18",
         "INV-01004500010",
         "10/17/2016",
         "3461",
         "HOMETOWN FOODS / STUART",
         "50250",
         "AMERICAN VODKAS",
         "LUXCO INC",
         "36308",
         "HAWKEYE VODKA",
         "1750",
         "7.17",
         "10.76",
         "6",
         "64.56",
         "3.59"
        ],
        [
         "19",
         "INV-09201100006",
         "12/13/2017",
         "3592",
         "WAL-MART 0886 / FORT DODGE",
         "50501",
         "WHISKEY LIQUEUR",
         "SAZERAC COMPANY  INC",
         "86886",
         "SOUTHERN COMFORT",
         "750",
         "10.33",
         "15.5",
         "12",
         "186.0",
         "5.17"
        ],
        [
         "20",
         "S28830400006",
         "11/03/2015",
         "4661",
         "QUIK TRIP #531 / GRIMES",
         "50111",
         "CANADIAN WHISKIES",
         "CONSTELLATION WINE COMPANY, INC.",
         "11776",
         "BLACK VELVET",
         "750",
         "5.23",
         "7.85",
         "12",
         "94.2",
         "2.619999999999999"
        ],
        [
         "21",
         "INV-58686200045",
         "05/22/2023",
         "3563",
         "WAL-MART 0559 / MUSCATINE",
         "52761",
         "MIXTO TEQUILA",
         "PROXIMO",
         "87408",
         "JOSE CUERVO ESPECIAL SILVER",
         "750",
         "12.0",
         "18.0",
         "12",
         "216.0",
         "6.0"
        ],
        [
         "22",
         "INV-68308800051",
         "03/17/2024",
         "2606",
         "HY-VEE WINE AND SPIRITS / HUMBOLDT",
         "50548",
         "100% AGAVE TEQUILA",
         "LALO SPIRITS LLC",
         "85788",
         "LALO TEQUILA BLANCO",
         "750",
         "24.0",
         "36.0",
         "3",
         "108.0",
         "12.0"
        ],
        [
         "23",
         "INV-69564600020",
         "04/25/2024",
         "10067",
         "BP TO GO #2 / CEDAR RAPIDS",
         "52402",
         "SPICED RUM",
         "DIAGEO AMERICAS",
         "43331",
         "CAPTAIN MORGAN ORIGINAL SPICED MINI",
         "50",
         "4.8",
         "7.2",
         "5",
         "36.0",
         "2.4000000000000004"
        ],
        [
         "24",
         "INV-56832900029",
         "03/21/2023",
         "3719",
         "WAL-MART 0581 / MARSHALLTOWN",
         "50158",
         "AMERICAN FLAVORED VODKA",
         "INTERCONTINENTAL PACKAGING COMPANY/PRESTIGE BEVERAGE GROUP",
         "75210",
         "KINKY PINK",
         "750",
         "10.0",
         "15.0",
         "6",
         "90.0",
         "5.0"
        ],
        [
         "25",
         "INV-19733300052",
         "05/31/2019",
         "3963",
         "TOBACCO HUT #14 / COUNCIL BLUFFS",
         "51501",
         "AMERICAN BRANDIES",
         "CONSTELLATION BRANDS INC",
         "56793",
         "PAUL MASSON APPLE GRANDE AMBER BRANDY",
         "750",
         "6.41",
         "9.62",
         "2",
         "19.24",
         "3.209999999999999"
        ],
        [
         "26",
         "S05822000086",
         "05/31/2012",
         "2544",
         "HY-VEE FOOD STORE / MARSHALLTOWN",
         "50158",
         "MISC. AMERICAN CORDIALS & LIQUEURS",
         "PRESTIGE WINE AND SPIRITS GROUP",
         "75210",
         "KINKY LIQUEUR",
         "750",
         "10.0",
         "15.0",
         "18",
         "270.0",
         "5.0"
        ],
        [
         "27",
         "S33703200001",
         "08/04/2016",
         "2633",
         "HY-VEE #3 / BDI / DES MOINES",
         "50320",
         "ANISETTE",
         "JIM BEAM BRANDS",
         "902552",
         "DEKUYPER ANISETTE",
         "750",
         "5.25",
         "7.88",
         "60",
         "472.8",
         "2.63"
        ],
        [
         "28",
         "INV-70411800015",
         "05/21/2024",
         "4565",
         "KUM & GO #228 / SIOUX CITY",
         "51106",
         "WHISKEY LIQUEUR",
         "SAZERAC COMPANY  INC",
         "86884",
         "SOUTHERN COMFORT",
         "375",
         "4.78",
         "7.17",
         "12",
         "86.04",
         "2.3899999999999997"
        ],
        [
         "29",
         "S29307300001",
         "11/24/2015",
         "4433",
         "KUM & GO #24  PLEASANT HILL",
         "50317",
         "IMPORTED VODKAS",
         "CONSTELLATION WINE COMPANY, INC.",
         "34820",
         "SVEDKA VODKA",
         "750",
         "8.25",
         "12.38",
         "12",
         "148.56",
         "4.130000000000001"
        ],
        [
         "30",
         "INV-05413400119",
         "06/08/2017",
         "2593",
         "HY-VEE FOOD STORE / CARROLL",
         "51401",
         "IMPORTED FLAVORED VODKA",
         "PERNOD RICARD USA",
         "34014",
         "ABSOLUT APEACH",
         "750",
         "11.49",
         "17.24",
         "4",
         "68.96",
         "5.749999999999998"
        ],
        [
         "31",
         "S31385600012",
         "03/22/2016",
         "2629",
         "HY-VEE FOOD STORE #2 / COUNCIL BLUFF",
         "51503",
         "VODKA 80 PROOF",
         "PHILLIPS BEVERAGE COMPANY",
         "37356",
         "PHILLIPS VODKA EZ PACK",
         "750",
         "3.57",
         "5.36",
         "12",
         "64.32",
         "1.7900000000000005"
        ],
        [
         "32",
         "INV-37656700041",
         "06/21/2021",
         "2552",
         "HY-VEE FOOD STORE #3 / CEDAR RAPIDS",
         "52404",
         "AMERICAN FLAVORED VODKA",
         "E & J GALLO WINERY",
         "40193",
         "NEW AMSTERDAM PINEAPPLE",
         "750",
         "7.5",
         "11.25",
         "12",
         "135.0",
         "3.75"
        ],
        [
         "33",
         "INV-35723200113",
         "04/12/2021",
         "2633",
         "HY-VEE #3 / BDI / DES MOINES",
         "50320",
         "100% AGAVE TEQUILA",
         "DIAGEO AMERICAS",
         "87485",
         "DON JULIO BLANCO",
         "750",
         "29.5",
         "44.25",
         "18",
         "796.5",
         "14.75"
        ],
        [
         "34",
         "INV-70872800011",
         "06/04/2024",
         "5188",
         "KUM & GO #251 / SIOUX CITY",
         "51101",
         "IMPORTED VODKAS",
         "PERNOD RICARD USA",
         "34001",
         "ABSOLUT SWEDISH VODKA 80PRF MINI",
         "50",
         "7.92",
         "11.88",
         "10",
         "118.8",
         "3.960000000000001"
        ],
        [
         "35",
         "INV-56929000033",
         "03/24/2023",
         "6130",
         "HIWAY 20 LIQUOR AND TOBACCO / FORT DODGE",
         "50501",
         "IMPORTED SCHNAPPS",
         "SAZERAC COMPANY  INC",
         "69706",
         "DR MCGILLICUDDYS ROOT BEER",
         "750",
         "8.66",
         "12.99",
         "3",
         "38.97",
         "4.33"
        ],
        [
         "36",
         "INV-41472300019",
         "10/29/2021",
         "4369",
         "KUM & GO #28 / NORWALK",
         "50211",
         "FLAVORED RUM",
         "BACARDI USA INC",
         "43051",
         "BACARDI DRAGON BERRY",
         "750",
         "8.26",
         "12.39",
         "3",
         "37.17",
         "4.130000000000001"
        ],
        [
         "37",
         "S14069100012",
         "08/22/2013",
         "4410",
         "KUM & GO #203 / PERRY",
         "50220",
         "PEPPERMINT SCHNAPPS",
         "LUXCO-ST LOUIS",
         "81204",
         "PARAMOUNT PEPPERMINT SCHNAPPS",
         "375",
         "2.27",
         "3.41",
         "6",
         "20.46",
         "1.1400000000000001"
        ],
        [
         "38",
         "S04572500067",
         "03/15/2012",
         "2637",
         "HY-VEE #5 / DAVENPORT",
         "52804",
         "PUERTO RICO & VIRGIN ISLANDS RUM",
         "LUXCO-ST LOUIS",
         "45278",
         "PARAMOUNT WHITE RUM",
         "1750",
         "7.58",
         "11.37",
         "12",
         "136.44",
         "3.789999999999999"
        ],
        [
         "39",
         "INV-81451800001",
         "04/09/2025",
         "6115",
         "CASEY'S #3920 / MOUNT PLEASANT",
         "52641",
         "STRAIGHT BOURBON WHISKIES",
         "JIM BEAM BRANDS",
         "19064",
         "JIM BEAM",
         "375",
         "6.1",
         "9.15",
         "24",
         "219.6",
         "3.0500000000000007"
        ],
        [
         "40",
         "S22654000028",
         "12/01/2014",
         "2599",
         "HY-VEE WINE AND SPIRITS / CORALVILLE",
         "52241",
         "BARBADOS RUM",
         "SHAW ROSS INTERNATIONAL IMPORTERS LL",
         "44266",
         "BRITISH NAVY PUSSER'S RUM",
         "750",
         "12.02",
         "18.03",
         "18",
         "324.54",
         "6.010000000000002"
        ],
        [
         "41",
         "INV-28561800034",
         "07/08/2020",
         "2673",
         "HY-VEE # 6/ DES MOINES",
         "50309",
         "AMERICAN FLAVORED VODKA",
         "HEAVEN HILL BRANDS",
         "41326",
         "BURNETTS CITRUS",
         "750",
         "4.5",
         "6.75",
         "12",
         "81.0",
         "2.25"
        ],
        [
         "42",
         "INV-17686900004",
         "02/20/2019",
         "5351",
         "DOWNTOWN LIQUOR",
         "51101",
         "CANADIAN WHISKIES",
         "CONSTELLATION BRANDS INC",
         "11771",
         "BLACK VELVET MINI",
         "600",
         "6.8",
         "10.2",
         "10",
         "102.0",
         "3.3999999999999995"
        ],
        [
         "43",
         "S17263800120",
         "02/06/2014",
         "2633",
         "HY-VEE #3 / BDI / DES MOINES",
         "50320",
         "MISC. IMPORTED CORDIALS & LIQUEURS",
         "REMY COINTREAU USA         .",
         "64776",
         "COINTREAU LIQUEUR",
         "750",
         "19.99",
         "29.99",
         "36",
         "1079.64",
         "10.0"
        ],
        [
         "44",
         "INV-18213200015",
         "03/19/2019",
         "5705",
         "KEYSTONE LIQUOR AND WINE",
         "52241",
         "IMPORTED BRANDIES",
         "REMY COINTREAU USA INC",
         "49185",
         "REMY MARTIN VSOP FLASK",
         "375",
         "11.59",
         "17.39",
         "24",
         "417.36",
         "5.800000000000001"
        ],
        [
         "45",
         "INV-19339000094",
         "05/14/2019",
         "2621",
         "HY-VEE FOOD STORE #3 / SIOUX CITY",
         "51105",
         "AMERICAN VODKAS",
         "SAZERAC COMPANY  INC",
         "37416",
         "POPOV 80PRF",
         "750",
         "4.5",
         "6.75",
         "2",
         "13.5",
         "2.25"
        ],
        [
         "46",
         "S14286700006",
         "09/04/2013",
         "4357",
         "KUM & GO #125 / STORY CITY",
         "50248",
         "VODKA 80 PROOF",
         "LUXCO-ST LOUIS",
         "36308",
         "HAWKEYE VODKA",
         "1750",
         "7.17",
         "10.76",
         "12",
         "129.12",
         "3.59"
        ],
        [
         "47",
         "INV-09592700116",
         "01/03/2018",
         "2670",
         "HY-VEE FOOD STORE / CORALVILLE",
         "52241",
         "AMERICAN SCHNAPPS",
         "JIM BEAM BRANDS",
         "82898",
         "DEKUYPER MIXED BERRY MEDLEY",
         "1000",
         "7.87",
         "11.81",
         "12",
         "141.72",
         "3.9400000000000004"
        ],
        [
         "48",
         "S11170100008",
         "03/19/2013",
         "3390",
         "OKOBOJI AVENUE LIQUOR",
         "51351",
         "CREAM LIQUEURS",
         "LUXCO-ST LOUIS",
         "68842",
         "ST. BRENDAN'S SUPERIOR IRISH CREAM LIQUEUR",
         "1000",
         "10.68",
         "16.03",
         "12",
         "192.36",
         "5.350000000000001"
        ],
        [
         "49",
         "INV-47099800026",
         "05/04/2022",
         "2502",
         "HY-VEE WINE AND SPIRITS / ANKENY",
         "50021",
         "BLENDED WHISKIES",
         "BRECKENRIDGE DISTILLERY / DOUBLE DIAMOND DISTILLERY LLC",
         "927461",
         "SOOH BRECKENRIDGE BOURBON",
         "750",
         "28.5",
         "42.75",
         "6",
         "256.5",
         "14.25"
        ]
       ],
       "shape": {
        "columns": 15,
        "rows": 159904
       }
      },
      "text/html": [
       "<div>\n",
       "<style scoped>\n",
       "    .dataframe tbody tr th:only-of-type {\n",
       "        vertical-align: middle;\n",
       "    }\n",
       "\n",
       "    .dataframe tbody tr th {\n",
       "        vertical-align: top;\n",
       "    }\n",
       "\n",
       "    .dataframe thead th {\n",
       "        text-align: right;\n",
       "    }\n",
       "</style>\n",
       "<table border=\"1\" class=\"dataframe\">\n",
       "  <thead>\n",
       "    <tr style=\"text-align: right;\">\n",
       "      <th></th>\n",
       "      <th>Invoice/Item Number</th>\n",
       "      <th>Date</th>\n",
       "      <th>Store Number</th>\n",
       "      <th>Store Name</th>\n",
       "      <th>Zip Code</th>\n",
       "      <th>Category Name</th>\n",
       "      <th>Vendor Name</th>\n",
       "      <th>Item Number</th>\n",
       "      <th>Item Description</th>\n",
       "      <th>Bottle Volume (ml)</th>\n",
       "      <th>State Bottle Cost</th>\n",
       "      <th>State Bottle Retail</th>\n",
       "      <th>Bottles Sold</th>\n",
       "      <th>Sale (Dollars)</th>\n",
       "      <th>profitable_bottles</th>\n",
       "    </tr>\n",
       "  </thead>\n",
       "  <tbody>\n",
       "    <tr>\n",
       "      <th>0</th>\n",
       "      <td>INV-59108400026</td>\n",
       "      <td>06/06/2023</td>\n",
       "      <td>3723</td>\n",
       "      <td>J D SPIRITS LIQUOR</td>\n",
       "      <td>51040</td>\n",
       "      <td>STRAIGHT RYE WHISKIES</td>\n",
       "      <td>INFINIUM SPIRITS</td>\n",
       "      <td>27102</td>\n",
       "      <td>TEMPLETON RYE 4YR</td>\n",
       "      <td>750</td>\n",
       "      <td>18.09</td>\n",
       "      <td>27.14</td>\n",
       "      <td>2</td>\n",
       "      <td>54.28</td>\n",
       "      <td>9.05</td>\n",
       "    </tr>\n",
       "    <tr>\n",
       "      <th>1</th>\n",
       "      <td>S16879800057</td>\n",
       "      <td>01/16/2014</td>\n",
       "      <td>3926</td>\n",
       "      <td>LIQUOR DOWNTOWN / IOWA CITY</td>\n",
       "      <td>52240</td>\n",
       "      <td>VODKA 80 PROOF</td>\n",
       "      <td>HEAVEN HILL BRANDS</td>\n",
       "      <td>35416</td>\n",
       "      <td>BURNETT'S VODKA 80 PRF</td>\n",
       "      <td>750</td>\n",
       "      <td>4.84</td>\n",
       "      <td>7.26</td>\n",
       "      <td>12</td>\n",
       "      <td>87.12</td>\n",
       "      <td>2.42</td>\n",
       "    </tr>\n",
       "    <tr>\n",
       "      <th>2</th>\n",
       "      <td>INV-05301100019</td>\n",
       "      <td>06/05/2017</td>\n",
       "      <td>3829</td>\n",
       "      <td>GARY'S FOODS / MT VERNON</td>\n",
       "      <td>52314</td>\n",
       "      <td>CANADIAN WHISKIES</td>\n",
       "      <td>DIAGEO AMERICAS</td>\n",
       "      <td>11296</td>\n",
       "      <td>CROWN ROYAL</td>\n",
       "      <td>750</td>\n",
       "      <td>15.59</td>\n",
       "      <td>23.39</td>\n",
       "      <td>6</td>\n",
       "      <td>135.66</td>\n",
       "      <td>7.80</td>\n",
       "    </tr>\n",
       "    <tr>\n",
       "      <th>3</th>\n",
       "      <td>INV-40973500083</td>\n",
       "      <td>10/14/2021</td>\n",
       "      <td>5102</td>\n",
       "      <td>WILKIE LIQUORS</td>\n",
       "      <td>52314</td>\n",
       "      <td>AMERICAN SCHNAPPS</td>\n",
       "      <td>JIM BEAM BRANDS</td>\n",
       "      <td>82787</td>\n",
       "      <td>DEKUYPER BUTTERSHOTS</td>\n",
       "      <td>1000</td>\n",
       "      <td>7.87</td>\n",
       "      <td>11.81</td>\n",
       "      <td>12</td>\n",
       "      <td>141.72</td>\n",
       "      <td>3.94</td>\n",
       "    </tr>\n",
       "    <tr>\n",
       "      <th>4</th>\n",
       "      <td>INV-17022500013</td>\n",
       "      <td>01/18/2019</td>\n",
       "      <td>2560</td>\n",
       "      <td>HY-VEE FOOD STORE / MARION</td>\n",
       "      <td>52302</td>\n",
       "      <td>WHISKEY LIQUEUR</td>\n",
       "      <td>SAZERAC COMPANY  INC</td>\n",
       "      <td>64863</td>\n",
       "      <td>FIREBALL CINNAMON WHISKEY</td>\n",
       "      <td>200</td>\n",
       "      <td>2.50</td>\n",
       "      <td>3.75</td>\n",
       "      <td>12</td>\n",
       "      <td>45.00</td>\n",
       "      <td>1.25</td>\n",
       "    </tr>\n",
       "    <tr>\n",
       "      <th>...</th>\n",
       "      <td>...</td>\n",
       "      <td>...</td>\n",
       "      <td>...</td>\n",
       "      <td>...</td>\n",
       "      <td>...</td>\n",
       "      <td>...</td>\n",
       "      <td>...</td>\n",
       "      <td>...</td>\n",
       "      <td>...</td>\n",
       "      <td>...</td>\n",
       "      <td>...</td>\n",
       "      <td>...</td>\n",
       "      <td>...</td>\n",
       "      <td>...</td>\n",
       "      <td>...</td>\n",
       "    </tr>\n",
       "    <tr>\n",
       "      <th>159899</th>\n",
       "      <td>INV-20689000058</td>\n",
       "      <td>07/17/2019</td>\n",
       "      <td>2565</td>\n",
       "      <td>HY-VEE FOOD STORE #1636 / SPENCER</td>\n",
       "      <td>51301</td>\n",
       "      <td>AMERICAN CORDIALS &amp; LIQUEURS</td>\n",
       "      <td>LUXCO INC</td>\n",
       "      <td>76488</td>\n",
       "      <td>PARAMOUNT AMARETTO</td>\n",
       "      <td>1750</td>\n",
       "      <td>8.07</td>\n",
       "      <td>12.11</td>\n",
       "      <td>6</td>\n",
       "      <td>72.66</td>\n",
       "      <td>4.04</td>\n",
       "    </tr>\n",
       "    <tr>\n",
       "      <th>159900</th>\n",
       "      <td>S05071400061</td>\n",
       "      <td>04/16/2012</td>\n",
       "      <td>3583</td>\n",
       "      <td>MAC'S LIQUOR AND VIDEOS</td>\n",
       "      <td>50060</td>\n",
       "      <td>COFFEE LIQUEURS</td>\n",
       "      <td>PERNOD RICARD USA/AUSTIN NICHOLS</td>\n",
       "      <td>67527</td>\n",
       "      <td>KAHLUA COFFEE LIQUEUR</td>\n",
       "      <td>1000</td>\n",
       "      <td>14.81</td>\n",
       "      <td>22.22</td>\n",
       "      <td>1</td>\n",
       "      <td>22.22</td>\n",
       "      <td>7.41</td>\n",
       "    </tr>\n",
       "    <tr>\n",
       "      <th>159901</th>\n",
       "      <td>INV-22880300009</td>\n",
       "      <td>10/29/2019</td>\n",
       "      <td>3896</td>\n",
       "      <td>SMOKIN' JOE'S #18 TOBACCO AND LIQUOR OUTLET</td>\n",
       "      <td>52240</td>\n",
       "      <td>IMPORTED DRY GINS</td>\n",
       "      <td>DIAGEO AMERICAS</td>\n",
       "      <td>28866</td>\n",
       "      <td>TANQUERAY GIN</td>\n",
       "      <td>750</td>\n",
       "      <td>13.50</td>\n",
       "      <td>20.25</td>\n",
       "      <td>2</td>\n",
       "      <td>40.50</td>\n",
       "      <td>6.75</td>\n",
       "    </tr>\n",
       "    <tr>\n",
       "      <th>159902</th>\n",
       "      <td>INV-58180900067</td>\n",
       "      <td>05/05/2023</td>\n",
       "      <td>4057</td>\n",
       "      <td>TEQUILA'S LIQUOR STORE</td>\n",
       "      <td>50316</td>\n",
       "      <td>NEUTRAL GRAIN SPIRITS FLAVORED</td>\n",
       "      <td>OLE SMOKY DISTILLERY LLC</td>\n",
       "      <td>80363</td>\n",
       "      <td>OLE SMOKY BANANA PUDDING CREAM MOONSHINE</td>\n",
       "      <td>750</td>\n",
       "      <td>13.00</td>\n",
       "      <td>19.50</td>\n",
       "      <td>3</td>\n",
       "      <td>58.50</td>\n",
       "      <td>6.50</td>\n",
       "    </tr>\n",
       "    <tr>\n",
       "      <th>159903</th>\n",
       "      <td>INV-64335600006</td>\n",
       "      <td>11/16/2023</td>\n",
       "      <td>5371</td>\n",
       "      <td>STATE FOOD MART</td>\n",
       "      <td>52722</td>\n",
       "      <td>STRAIGHT BOURBON WHISKIES</td>\n",
       "      <td>JIM BEAM BRANDS</td>\n",
       "      <td>20116</td>\n",
       "      <td>OLD GRAND DAD 114PRF</td>\n",
       "      <td>750</td>\n",
       "      <td>13.84</td>\n",
       "      <td>20.76</td>\n",
       "      <td>3</td>\n",
       "      <td>62.28</td>\n",
       "      <td>6.92</td>\n",
       "    </tr>\n",
       "  </tbody>\n",
       "</table>\n",
       "<p>159904 rows × 15 columns</p>\n",
       "</div>"
      ],
      "text/plain": [
       "       Invoice/Item Number        Date  Store Number  \\\n",
       "0          INV-59108400026  06/06/2023          3723   \n",
       "1             S16879800057  01/16/2014          3926   \n",
       "2          INV-05301100019  06/05/2017          3829   \n",
       "3          INV-40973500083  10/14/2021          5102   \n",
       "4          INV-17022500013  01/18/2019          2560   \n",
       "...                    ...         ...           ...   \n",
       "159899     INV-20689000058  07/17/2019          2565   \n",
       "159900        S05071400061  04/16/2012          3583   \n",
       "159901     INV-22880300009  10/29/2019          3896   \n",
       "159902     INV-58180900067  05/05/2023          4057   \n",
       "159903     INV-64335600006  11/16/2023          5371   \n",
       "\n",
       "                                         Store Name Zip Code  \\\n",
       "0                                J D SPIRITS LIQUOR    51040   \n",
       "1                       LIQUOR DOWNTOWN / IOWA CITY    52240   \n",
       "2                          GARY'S FOODS / MT VERNON    52314   \n",
       "3                                    WILKIE LIQUORS    52314   \n",
       "4                        HY-VEE FOOD STORE / MARION    52302   \n",
       "...                                             ...      ...   \n",
       "159899            HY-VEE FOOD STORE #1636 / SPENCER    51301   \n",
       "159900                      MAC'S LIQUOR AND VIDEOS    50060   \n",
       "159901  SMOKIN' JOE'S #18 TOBACCO AND LIQUOR OUTLET    52240   \n",
       "159902                       TEQUILA'S LIQUOR STORE    50316   \n",
       "159903                              STATE FOOD MART    52722   \n",
       "\n",
       "                         Category Name                       Vendor Name  \\\n",
       "0                STRAIGHT RYE WHISKIES                  INFINIUM SPIRITS   \n",
       "1                       VODKA 80 PROOF                HEAVEN HILL BRANDS   \n",
       "2                    CANADIAN WHISKIES                   DIAGEO AMERICAS   \n",
       "3                    AMERICAN SCHNAPPS                   JIM BEAM BRANDS   \n",
       "4                      WHISKEY LIQUEUR              SAZERAC COMPANY  INC   \n",
       "...                                ...                               ...   \n",
       "159899    AMERICAN CORDIALS & LIQUEURS                         LUXCO INC   \n",
       "159900                 COFFEE LIQUEURS  PERNOD RICARD USA/AUSTIN NICHOLS   \n",
       "159901               IMPORTED DRY GINS                   DIAGEO AMERICAS   \n",
       "159902  NEUTRAL GRAIN SPIRITS FLAVORED          OLE SMOKY DISTILLERY LLC   \n",
       "159903       STRAIGHT BOURBON WHISKIES                   JIM BEAM BRANDS   \n",
       "\n",
       "        Item Number                          Item Description  \\\n",
       "0             27102                         TEMPLETON RYE 4YR   \n",
       "1             35416                    BURNETT'S VODKA 80 PRF   \n",
       "2             11296                               CROWN ROYAL   \n",
       "3             82787                      DEKUYPER BUTTERSHOTS   \n",
       "4             64863                 FIREBALL CINNAMON WHISKEY   \n",
       "...             ...                                       ...   \n",
       "159899        76488                        PARAMOUNT AMARETTO   \n",
       "159900        67527                     KAHLUA COFFEE LIQUEUR   \n",
       "159901        28866                             TANQUERAY GIN   \n",
       "159902        80363  OLE SMOKY BANANA PUDDING CREAM MOONSHINE   \n",
       "159903        20116                      OLD GRAND DAD 114PRF   \n",
       "\n",
       "        Bottle Volume (ml)  State Bottle Cost  State Bottle Retail  \\\n",
       "0                      750              18.09                27.14   \n",
       "1                      750               4.84                 7.26   \n",
       "2                      750              15.59                23.39   \n",
       "3                     1000               7.87                11.81   \n",
       "4                      200               2.50                 3.75   \n",
       "...                    ...                ...                  ...   \n",
       "159899                1750               8.07                12.11   \n",
       "159900                1000              14.81                22.22   \n",
       "159901                 750              13.50                20.25   \n",
       "159902                 750              13.00                19.50   \n",
       "159903                 750              13.84                20.76   \n",
       "\n",
       "        Bottles Sold  Sale (Dollars)  profitable_bottles  \n",
       "0                  2           54.28                9.05  \n",
       "1                 12           87.12                2.42  \n",
       "2                  6          135.66                7.80  \n",
       "3                 12          141.72                3.94  \n",
       "4                 12           45.00                1.25  \n",
       "...              ...             ...                 ...  \n",
       "159899             6           72.66                4.04  \n",
       "159900             1           22.22                7.41  \n",
       "159901             2           40.50                6.75  \n",
       "159902             3           58.50                6.50  \n",
       "159903             3           62.28                6.92  \n",
       "\n",
       "[159904 rows x 15 columns]"
      ]
     },
     "execution_count": 44,
     "metadata": {},
     "output_type": "execute_result"
    }
   ],
   "source": [
    "iowa[\"profitable_bottles\"] = iowa[\"State Bottle Retail\"] - iowa[\"State Bottle Cost\"]\n",
    "\n",
    "bottle_profit = (iowa.groupby(\"Item Description\")[\"profitable_bottles\"].sum())\n",
    "\n",
    "profitable_df = iowa[iowa[\"Item Description\"].isin(bottle_profit.index)]\n",
    "\n",
    "profitable_df"
   ]
  },
  {
   "cell_type": "code",
   "execution_count": null,
   "id": "1394993b",
   "metadata": {},
   "outputs": [
    {
     "data": {
      "application/vnd.microsoft.datawrangler.viewer.v0+json": {
       "columns": [
        {
         "name": "Item Description",
         "rawType": "object",
         "type": "string"
        },
        {
         "name": "State Bottle Cost",
         "rawType": "float64",
         "type": "float"
        },
        {
         "name": "State Bottle Retail",
         "rawType": "float64",
         "type": "float"
        }
       ],
       "ref": "e389f30c-61fe-4ff0-8658-532a78244e2e",
       "rows": [
        [
         "\"JOSE CUERVO SILVER \"\"ROLLING STONES\"\"\"",
         "21.0",
         "31.5"
        ],
        [
         "\"RUMCHATA \"\"MINICHATAS\"\" CREAMER CUPS\"",
         "77.0",
         "115.5"
        ],
        [
         "10 CANE RUM",
         "24.990000000000002",
         "37.489999999999995"
        ],
        [
         "10TH MOUNTAIN CORDIAL",
         "25.0",
         "37.5"
        ],
        [
         "135� EAST HYOGO JAPANESE DRY GIN",
         "33.34",
         "50.02"
        ],
        [
         "15 STARS TRIPLE CASK BATCH II",
         "106.0",
         "159.0"
        ],
        [
         "173 CRAFT DISTILLERY PREMIUM GIN",
         "37.47",
         "56.22"
        ],
        [
         "173 CRAFT DISTILLERY PREMIUM VODKA",
         "19.98",
         "29.98"
        ],
        [
         "1792 12YR OLD BOURBON",
         "50.0",
         "75.0"
        ],
        [
         "1792 BOTTLE IN BOND BOURBON",
         "20.0",
         "30.0"
        ],
        [
         "1792 BOTTLED IN BOND BOURBON",
         "269.0",
         "403.5"
        ],
        [
         "1792 FULL PROOF",
         "172.0",
         "258.0"
        ],
        [
         "1792 PORT FINISH BOURBON HA",
         "21.0",
         "31.5"
        ],
        [
         "1792 SINGLE BARREL BOURBON",
         "65.0",
         "97.5"
        ],
        [
         "1792 SMALL BATCH",
         "303.5",
         "455.25"
        ],
        [
         "1792 SMALL BATCH BOURBON",
         "77.8",
         "116.72"
        ],
        [
         "1792 SWEET WHEAT BOURBON",
         "218.0",
         "327.0"
        ],
        [
         "1800 ANEJO",
         "251.23",
         "376.86"
        ],
        [
         "1800 ANEJO TEQUILA",
         "259.57",
         "390.62"
        ],
        [
         "1800 COCONUT",
         "498.48",
         "750.72"
        ],
        [
         "1800 COCONUT MINI",
         "3.96",
         "5.94"
        ],
        [
         "1800 CRISTALINO",
         "267.84000000000003",
         "401.76"
        ],
        [
         "1800 CUCUMBER & JALAPENO",
         "33.0",
         "49.5"
        ],
        [
         "1800 PASSION FRUIT ULTIMATE MARGARITA",
         "40.16",
         "60.24"
        ],
        [
         "1800 PEACH",
         "107.74",
         "161.61"
        ],
        [
         "1800 PEACH MARGARITA",
         "10.04",
         "15.06"
        ],
        [
         "1800 REPOSADO",
         "1210.08",
         "1815.1200000000001"
        ],
        [
         "1800 REPOSADO TEQUILA",
         "637.4200000000001",
         "962.96"
        ],
        [
         "1800 REPOSADO W/SERVING BOWLS",
         "47.94",
         "71.91"
        ],
        [
         "1800 SILVER",
         "2764.96",
         "4147.63"
        ],
        [
         "1800 SILVER MINI",
         "375.70000000000005",
         "563.55"
        ],
        [
         "1800 SILVER TEQUILA",
         "1135.43",
         "1706.46"
        ],
        [
         "1800 SILVER TEQUILA 750ML W/ 1800 COCONUT 200ML",
         "15.46",
         "23.19"
        ],
        [
         "1800 SILVER TEQUILA W/REPLICA SHOT GLASSES",
         "46.38",
         "69.57000000000001"
        ],
        [
         "1800 SILVER W/FLASK",
         "30.92",
         "46.38"
        ],
        [
         "1800 SILVER W/TACO HOLDER",
         "32.480000000000004",
         "48.72"
        ],
        [
         "1800 TEQUILA BLANCO W/ DIPPING BOWL",
         "33.0",
         "49.5"
        ],
        [
         "1800 ULTIMATE BLACK CHERRY MARGARITA",
         "10.04",
         "15.06"
        ],
        [
         "1800 ULTIMATE BLACK CHERRY MARGARITA PET",
         "120.47999999999999",
         "180.72"
        ],
        [
         "1800 ULTIMATE BLOOD ORANGE MARGARITA",
         "60.239999999999995",
         "90.36"
        ],
        [
         "1800 ULTIMATE BLOOD ORANGE MARGARITA PET",
         "60.239999999999995",
         "90.36"
        ],
        [
         "1800 ULTIMATE JALAPE�O LIME",
         "20.08",
         "30.12"
        ],
        [
         "1800 ULTIMATE MANGO MARGARITA",
         "50.199999999999996",
         "75.3"
        ],
        [
         "1800 ULTIMATE MANGO MARGARITA PET",
         "70.28",
         "105.42"
        ],
        [
         "1800 ULTIMATE MARGARITA",
         "582.18",
         "873.65"
        ],
        [
         "1800 ULTIMATE MARGARITA PET",
         "220.88",
         "331.32"
        ],
        [
         "1800 ULTIMATE PEACH MARGARITA",
         "90.35999999999999",
         "135.54"
        ],
        [
         "1800 ULTIMATE PEACH MARGARITA PET",
         "80.32",
         "120.48"
        ],
        [
         "1800 ULTIMATE PINEAPPLE MARGARITA",
         "70.28",
         "105.42"
        ],
        [
         "1800 ULTIMATE PINEAPPLE MARGARITA PET",
         "110.44",
         "165.66"
        ]
       ],
       "shape": {
        "columns": 2,
        "rows": 5401
       }
      },
      "text/html": [
       "<div>\n",
       "<style scoped>\n",
       "    .dataframe tbody tr th:only-of-type {\n",
       "        vertical-align: middle;\n",
       "    }\n",
       "\n",
       "    .dataframe tbody tr th {\n",
       "        vertical-align: top;\n",
       "    }\n",
       "\n",
       "    .dataframe thead th {\n",
       "        text-align: right;\n",
       "    }\n",
       "</style>\n",
       "<table border=\"1\" class=\"dataframe\">\n",
       "  <thead>\n",
       "    <tr style=\"text-align: right;\">\n",
       "      <th></th>\n",
       "      <th>State Bottle Cost</th>\n",
       "      <th>State Bottle Retail</th>\n",
       "    </tr>\n",
       "    <tr>\n",
       "      <th>Item Description</th>\n",
       "      <th></th>\n",
       "      <th></th>\n",
       "    </tr>\n",
       "  </thead>\n",
       "  <tbody>\n",
       "    <tr>\n",
       "      <th>\"JOSE CUERVO SILVER \"\"ROLLING STONES\"\"\"</th>\n",
       "      <td>21.00</td>\n",
       "      <td>31.50</td>\n",
       "    </tr>\n",
       "    <tr>\n",
       "      <th>\"RUMCHATA \"\"MINICHATAS\"\" CREAMER CUPS\"</th>\n",
       "      <td>77.00</td>\n",
       "      <td>115.50</td>\n",
       "    </tr>\n",
       "    <tr>\n",
       "      <th>10 CANE RUM</th>\n",
       "      <td>24.99</td>\n",
       "      <td>37.49</td>\n",
       "    </tr>\n",
       "    <tr>\n",
       "      <th>10TH MOUNTAIN CORDIAL</th>\n",
       "      <td>25.00</td>\n",
       "      <td>37.50</td>\n",
       "    </tr>\n",
       "    <tr>\n",
       "      <th>135� EAST HYOGO JAPANESE DRY GIN</th>\n",
       "      <td>33.34</td>\n",
       "      <td>50.02</td>\n",
       "    </tr>\n",
       "    <tr>\n",
       "      <th>...</th>\n",
       "      <td>...</td>\n",
       "      <td>...</td>\n",
       "    </tr>\n",
       "    <tr>\n",
       "      <th>ZING ZANG BLAZING BLOODY MARY RTS</th>\n",
       "      <td>66.48</td>\n",
       "      <td>99.76</td>\n",
       "    </tr>\n",
       "    <tr>\n",
       "      <th>ZING ZANG BLOODY MARY RTS</th>\n",
       "      <td>58.17</td>\n",
       "      <td>87.29</td>\n",
       "    </tr>\n",
       "    <tr>\n",
       "      <th>ZIYAD LEMON RUSH</th>\n",
       "      <td>8.00</td>\n",
       "      <td>12.00</td>\n",
       "    </tr>\n",
       "    <tr>\n",
       "      <th>ZUBROWKA BISON GRASS VODKA</th>\n",
       "      <td>12.97</td>\n",
       "      <td>19.46</td>\n",
       "    </tr>\n",
       "    <tr>\n",
       "      <th>ZYR VODKA</th>\n",
       "      <td>15.00</td>\n",
       "      <td>22.50</td>\n",
       "    </tr>\n",
       "  </tbody>\n",
       "</table>\n",
       "<p>5401 rows × 2 columns</p>\n",
       "</div>"
      ],
      "text/plain": [
       "                                         State Bottle Cost  \\\n",
       "Item Description                                             \n",
       "\"JOSE CUERVO SILVER \"\"ROLLING STONES\"\"\"              21.00   \n",
       "\"RUMCHATA \"\"MINICHATAS\"\" CREAMER CUPS\"               77.00   \n",
       "10 CANE RUM                                          24.99   \n",
       "10TH MOUNTAIN CORDIAL                                25.00   \n",
       "135� EAST HYOGO JAPANESE DRY GIN                     33.34   \n",
       "...                                                    ...   \n",
       "ZING ZANG BLAZING BLOODY MARY RTS                    66.48   \n",
       "ZING ZANG BLOODY MARY RTS                            58.17   \n",
       "ZIYAD LEMON RUSH                                      8.00   \n",
       "ZUBROWKA BISON GRASS VODKA                           12.97   \n",
       "ZYR VODKA                                            15.00   \n",
       "\n",
       "                                         State Bottle Retail  \n",
       "Item Description                                              \n",
       "\"JOSE CUERVO SILVER \"\"ROLLING STONES\"\"\"                31.50  \n",
       "\"RUMCHATA \"\"MINICHATAS\"\" CREAMER CUPS\"                115.50  \n",
       "10 CANE RUM                                            37.49  \n",
       "10TH MOUNTAIN CORDIAL                                  37.50  \n",
       "135� EAST HYOGO JAPANESE DRY GIN                       50.02  \n",
       "...                                                      ...  \n",
       "ZING ZANG BLAZING BLOODY MARY RTS                      99.76  \n",
       "ZING ZANG BLOODY MARY RTS                              87.29  \n",
       "ZIYAD LEMON RUSH                                       12.00  \n",
       "ZUBROWKA BISON GRASS VODKA                             19.46  \n",
       "ZYR VODKA                                              22.50  \n",
       "\n",
       "[5401 rows x 2 columns]"
      ]
     },
     "execution_count": 45,
     "metadata": {},
     "output_type": "execute_result"
    }
   ],
   "source": [
    "# making smaller dataframe with relevant columns only\n",
    "profit = (iowa.loc[:,['State Bottle Cost','State Bottle Retail', 'Item Description']]\n",
    "         .groupby('Item Description')\n",
    "         .sum())\n",
    "\n",
    "profit"
   ]
  },
  {
   "cell_type": "code",
   "execution_count": null,
   "id": "d0015914",
   "metadata": {},
   "outputs": [
    {
     "data": {
      "application/vnd.microsoft.datawrangler.viewer.v0+json": {
       "columns": [
        {
         "name": "Item Description",
         "rawType": "object",
         "type": "string"
        },
        {
         "name": "State Bottle Cost",
         "rawType": "float64",
         "type": "float"
        },
        {
         "name": "State Bottle Retail",
         "rawType": "float64",
         "type": "float"
        },
        {
         "name": "Net Profit",
         "rawType": "float64",
         "type": "float"
        }
       ],
       "ref": "c46b54d5-7d08-4dd2-ba71-2e8b83ceb39f",
       "rows": [
        [
         "\"JOSE CUERVO SILVER \"\"ROLLING STONES\"\"\"",
         "21.0",
         "31.5",
         "10.5"
        ],
        [
         "\"RUMCHATA \"\"MINICHATAS\"\" CREAMER CUPS\"",
         "77.0",
         "115.5",
         "38.5"
        ],
        [
         "10 CANE RUM",
         "24.990000000000002",
         "37.489999999999995",
         "12.499999999999993"
        ],
        [
         "10TH MOUNTAIN CORDIAL",
         "25.0",
         "37.5",
         "12.5"
        ],
        [
         "135� EAST HYOGO JAPANESE DRY GIN",
         "33.34",
         "50.02",
         "16.68"
        ],
        [
         "15 STARS TRIPLE CASK BATCH II",
         "106.0",
         "159.0",
         "53.0"
        ],
        [
         "173 CRAFT DISTILLERY PREMIUM GIN",
         "37.47",
         "56.22",
         "18.75"
        ],
        [
         "173 CRAFT DISTILLERY PREMIUM VODKA",
         "19.98",
         "29.98",
         "10.0"
        ],
        [
         "1792 12YR OLD BOURBON",
         "50.0",
         "75.0",
         "25.0"
        ],
        [
         "1792 BOTTLE IN BOND BOURBON",
         "20.0",
         "30.0",
         "10.0"
        ],
        [
         "1792 BOTTLED IN BOND BOURBON",
         "269.0",
         "403.5",
         "134.5"
        ],
        [
         "1792 FULL PROOF",
         "172.0",
         "258.0",
         "86.0"
        ],
        [
         "1792 PORT FINISH BOURBON HA",
         "21.0",
         "31.5",
         "10.5"
        ],
        [
         "1792 SINGLE BARREL BOURBON",
         "65.0",
         "97.5",
         "32.5"
        ],
        [
         "1792 SMALL BATCH",
         "303.5",
         "455.25",
         "151.75"
        ],
        [
         "1792 SMALL BATCH BOURBON",
         "77.8",
         "116.72",
         "38.92"
        ],
        [
         "1792 SWEET WHEAT BOURBON",
         "218.0",
         "327.0",
         "109.0"
        ],
        [
         "1800 ANEJO",
         "251.23",
         "376.86",
         "125.63000000000002"
        ],
        [
         "1800 ANEJO TEQUILA",
         "259.57",
         "390.62",
         "131.05"
        ],
        [
         "1800 COCONUT",
         "498.48",
         "750.72",
         "252.24"
        ],
        [
         "1800 COCONUT MINI",
         "3.96",
         "5.94",
         "1.9800000000000004"
        ],
        [
         "1800 CRISTALINO",
         "267.84000000000003",
         "401.76",
         "133.91999999999996"
        ],
        [
         "1800 CUCUMBER & JALAPENO",
         "33.0",
         "49.5",
         "16.5"
        ],
        [
         "1800 PASSION FRUIT ULTIMATE MARGARITA",
         "40.16",
         "60.24",
         "20.080000000000005"
        ],
        [
         "1800 PEACH",
         "107.74",
         "161.61",
         "53.87000000000002"
        ],
        [
         "1800 PEACH MARGARITA",
         "10.04",
         "15.06",
         "5.020000000000001"
        ],
        [
         "1800 REPOSADO",
         "1210.08",
         "1815.1200000000001",
         "605.0400000000002"
        ],
        [
         "1800 REPOSADO TEQUILA",
         "637.4200000000001",
         "962.96",
         "325.53999999999996"
        ],
        [
         "1800 REPOSADO W/SERVING BOWLS",
         "47.94",
         "71.91",
         "23.97"
        ],
        [
         "1800 SILVER",
         "2764.96",
         "4147.63",
         "1382.67"
        ],
        [
         "1800 SILVER MINI",
         "375.70000000000005",
         "563.55",
         "187.8499999999999"
        ],
        [
         "1800 SILVER TEQUILA",
         "1135.43",
         "1706.46",
         "571.03"
        ],
        [
         "1800 SILVER TEQUILA 750ML W/ 1800 COCONUT 200ML",
         "15.46",
         "23.19",
         "7.73"
        ],
        [
         "1800 SILVER TEQUILA W/REPLICA SHOT GLASSES",
         "46.38",
         "69.57000000000001",
         "23.190000000000005"
        ],
        [
         "1800 SILVER W/FLASK",
         "30.92",
         "46.38",
         "15.46"
        ],
        [
         "1800 SILVER W/TACO HOLDER",
         "32.480000000000004",
         "48.72",
         "16.239999999999995"
        ],
        [
         "1800 TEQUILA BLANCO W/ DIPPING BOWL",
         "33.0",
         "49.5",
         "16.5"
        ],
        [
         "1800 ULTIMATE BLACK CHERRY MARGARITA",
         "10.04",
         "15.06",
         "5.020000000000001"
        ],
        [
         "1800 ULTIMATE BLACK CHERRY MARGARITA PET",
         "120.47999999999999",
         "180.72",
         "60.24000000000001"
        ],
        [
         "1800 ULTIMATE BLOOD ORANGE MARGARITA",
         "60.239999999999995",
         "90.36",
         "30.120000000000005"
        ],
        [
         "1800 ULTIMATE BLOOD ORANGE MARGARITA PET",
         "60.239999999999995",
         "90.36",
         "30.120000000000005"
        ],
        [
         "1800 ULTIMATE JALAPE�O LIME",
         "20.08",
         "30.12",
         "10.040000000000003"
        ],
        [
         "1800 ULTIMATE MANGO MARGARITA",
         "50.199999999999996",
         "75.3",
         "25.1"
        ],
        [
         "1800 ULTIMATE MANGO MARGARITA PET",
         "70.28",
         "105.42",
         "35.14"
        ],
        [
         "1800 ULTIMATE MARGARITA",
         "582.18",
         "873.65",
         "291.47"
        ],
        [
         "1800 ULTIMATE MARGARITA PET",
         "220.88",
         "331.32",
         "110.44"
        ],
        [
         "1800 ULTIMATE PEACH MARGARITA",
         "90.35999999999999",
         "135.54",
         "45.18000000000001"
        ],
        [
         "1800 ULTIMATE PEACH MARGARITA PET",
         "80.32",
         "120.48",
         "40.16000000000001"
        ],
        [
         "1800 ULTIMATE PINEAPPLE MARGARITA",
         "70.28",
         "105.42",
         "35.14"
        ],
        [
         "1800 ULTIMATE PINEAPPLE MARGARITA PET",
         "110.44",
         "165.66",
         "55.22"
        ]
       ],
       "shape": {
        "columns": 3,
        "rows": 5401
       }
      },
      "text/html": [
       "<div>\n",
       "<style scoped>\n",
       "    .dataframe tbody tr th:only-of-type {\n",
       "        vertical-align: middle;\n",
       "    }\n",
       "\n",
       "    .dataframe tbody tr th {\n",
       "        vertical-align: top;\n",
       "    }\n",
       "\n",
       "    .dataframe thead th {\n",
       "        text-align: right;\n",
       "    }\n",
       "</style>\n",
       "<table border=\"1\" class=\"dataframe\">\n",
       "  <thead>\n",
       "    <tr style=\"text-align: right;\">\n",
       "      <th></th>\n",
       "      <th>State Bottle Cost</th>\n",
       "      <th>State Bottle Retail</th>\n",
       "      <th>Net Profit</th>\n",
       "    </tr>\n",
       "    <tr>\n",
       "      <th>Item Description</th>\n",
       "      <th></th>\n",
       "      <th></th>\n",
       "      <th></th>\n",
       "    </tr>\n",
       "  </thead>\n",
       "  <tbody>\n",
       "    <tr>\n",
       "      <th>\"JOSE CUERVO SILVER \"\"ROLLING STONES\"\"\"</th>\n",
       "      <td>21.00</td>\n",
       "      <td>31.50</td>\n",
       "      <td>10.50</td>\n",
       "    </tr>\n",
       "    <tr>\n",
       "      <th>\"RUMCHATA \"\"MINICHATAS\"\" CREAMER CUPS\"</th>\n",
       "      <td>77.00</td>\n",
       "      <td>115.50</td>\n",
       "      <td>38.50</td>\n",
       "    </tr>\n",
       "    <tr>\n",
       "      <th>10 CANE RUM</th>\n",
       "      <td>24.99</td>\n",
       "      <td>37.49</td>\n",
       "      <td>12.50</td>\n",
       "    </tr>\n",
       "    <tr>\n",
       "      <th>10TH MOUNTAIN CORDIAL</th>\n",
       "      <td>25.00</td>\n",
       "      <td>37.50</td>\n",
       "      <td>12.50</td>\n",
       "    </tr>\n",
       "    <tr>\n",
       "      <th>135� EAST HYOGO JAPANESE DRY GIN</th>\n",
       "      <td>33.34</td>\n",
       "      <td>50.02</td>\n",
       "      <td>16.68</td>\n",
       "    </tr>\n",
       "    <tr>\n",
       "      <th>...</th>\n",
       "      <td>...</td>\n",
       "      <td>...</td>\n",
       "      <td>...</td>\n",
       "    </tr>\n",
       "    <tr>\n",
       "      <th>ZING ZANG BLAZING BLOODY MARY RTS</th>\n",
       "      <td>66.48</td>\n",
       "      <td>99.76</td>\n",
       "      <td>33.28</td>\n",
       "    </tr>\n",
       "    <tr>\n",
       "      <th>ZING ZANG BLOODY MARY RTS</th>\n",
       "      <td>58.17</td>\n",
       "      <td>87.29</td>\n",
       "      <td>29.12</td>\n",
       "    </tr>\n",
       "    <tr>\n",
       "      <th>ZIYAD LEMON RUSH</th>\n",
       "      <td>8.00</td>\n",
       "      <td>12.00</td>\n",
       "      <td>4.00</td>\n",
       "    </tr>\n",
       "    <tr>\n",
       "      <th>ZUBROWKA BISON GRASS VODKA</th>\n",
       "      <td>12.97</td>\n",
       "      <td>19.46</td>\n",
       "      <td>6.49</td>\n",
       "    </tr>\n",
       "    <tr>\n",
       "      <th>ZYR VODKA</th>\n",
       "      <td>15.00</td>\n",
       "      <td>22.50</td>\n",
       "      <td>7.50</td>\n",
       "    </tr>\n",
       "  </tbody>\n",
       "</table>\n",
       "<p>5401 rows × 3 columns</p>\n",
       "</div>"
      ],
      "text/plain": [
       "                                         State Bottle Cost  \\\n",
       "Item Description                                             \n",
       "\"JOSE CUERVO SILVER \"\"ROLLING STONES\"\"\"              21.00   \n",
       "\"RUMCHATA \"\"MINICHATAS\"\" CREAMER CUPS\"               77.00   \n",
       "10 CANE RUM                                          24.99   \n",
       "10TH MOUNTAIN CORDIAL                                25.00   \n",
       "135� EAST HYOGO JAPANESE DRY GIN                     33.34   \n",
       "...                                                    ...   \n",
       "ZING ZANG BLAZING BLOODY MARY RTS                    66.48   \n",
       "ZING ZANG BLOODY MARY RTS                            58.17   \n",
       "ZIYAD LEMON RUSH                                      8.00   \n",
       "ZUBROWKA BISON GRASS VODKA                           12.97   \n",
       "ZYR VODKA                                            15.00   \n",
       "\n",
       "                                         State Bottle Retail  Net Profit  \n",
       "Item Description                                                          \n",
       "\"JOSE CUERVO SILVER \"\"ROLLING STONES\"\"\"                31.50       10.50  \n",
       "\"RUMCHATA \"\"MINICHATAS\"\" CREAMER CUPS\"                115.50       38.50  \n",
       "10 CANE RUM                                            37.49       12.50  \n",
       "10TH MOUNTAIN CORDIAL                                  37.50       12.50  \n",
       "135� EAST HYOGO JAPANESE DRY GIN                       50.02       16.68  \n",
       "...                                                      ...         ...  \n",
       "ZING ZANG BLAZING BLOODY MARY RTS                      99.76       33.28  \n",
       "ZING ZANG BLOODY MARY RTS                              87.29       29.12  \n",
       "ZIYAD LEMON RUSH                                       12.00        4.00  \n",
       "ZUBROWKA BISON GRASS VODKA                             19.46        6.49  \n",
       "ZYR VODKA                                              22.50        7.50  \n",
       "\n",
       "[5401 rows x 3 columns]"
      ]
     },
     "execution_count": 46,
     "metadata": {},
     "output_type": "execute_result"
    }
   ],
   "source": [
    "# making net profit column\n",
    "profit['Net Profit'] = profit['State Bottle Retail'] - profit['State Bottle Cost']\n",
    "profit\n"
   ]
  },
  {
   "cell_type": "code",
   "execution_count": 47,
   "id": "691c416b",
   "metadata": {},
   "outputs": [
    {
     "data": {
      "text/plain": [
       "<Axes: xlabel='Net Profit', ylabel='Item Description'>"
      ]
     },
     "execution_count": 47,
     "metadata": {},
     "output_type": "execute_result"
    },
    {
     "data": {
      "image/png": "[encoded data removed]",
      "text/plain": [
       "<Figure size 640x480 with 1 Axes>"
      ]
     },
     "metadata": {},
     "output_type": "display_data"
    }
   ],
   "source": [
    "# getting top 10 bottles and making bar plot\n",
    "profit = profit.sort_values(by='Net Profit', ascending=False)\n",
    "top_bottles = profit[:10]\n",
    "sns.barplot(data=top_bottles.reset_index(), y='Item Description', x='Net Profit', hue='Item Description', orient=\"h\")"
   ]
  },
  {
   "cell_type": "markdown",
   "id": "63593bde",
   "metadata": {},
   "source": [
    "2. This question is to further explore broadcasting in NumPy.\n",
    "\n",
    "- In the first code chunk below, there are two vectors, $x$ and $y$. What happens when you try to subtract them?\n",
    "- Instead, try `x.reshape(-1,1)-y.reshape(1,-1)`. What do you get?\n",
    "- Try `x.reshape(1,-1)-y.reshape(-1,1)`. Compare the results to your previous answer.\n",
    "- Write two double for-loops to replicate the results of the previous two answers. \n",
    "- Clearly explain how `x.reshape(1,-1)` and `x.reshape(-1,1)` change $x$"
   ]
  },
  {
   "cell_type": "code",
   "execution_count": 48,
   "id": "e29b3aac",
   "metadata": {},
   "outputs": [],
   "source": [
    "import numpy as np\n",
    "\n",
    "x = np.array([1,3,5])\n",
    "y = np.array([2,5])"
   ]
  },
  {
   "cell_type": "code",
   "execution_count": 49,
   "id": "b03ff720",
   "metadata": {},
   "outputs": [
    {
     "data": {
      "text/plain": [
       "(3,)"
      ]
     },
     "execution_count": 49,
     "metadata": {},
     "output_type": "execute_result"
    }
   ],
   "source": [
    "x.shape"
   ]
  },
  {
   "cell_type": "code",
   "execution_count": 50,
   "id": "7e3fa7b9",
   "metadata": {},
   "outputs": [
    {
     "data": {
      "text/plain": [
       "(2,)"
      ]
     },
     "execution_count": 50,
     "metadata": {},
     "output_type": "execute_result"
    }
   ],
   "source": [
    "y.shape"
   ]
  },
  {
   "cell_type": "code",
   "execution_count": 51,
   "id": "1b619882",
   "metadata": {},
   "outputs": [
    {
     "data": {
      "text/plain": [
       "array([[-1, -4],\n",
       "       [ 1, -2],\n",
       "       [ 3,  0]])"
      ]
     },
     "execution_count": 51,
     "metadata": {},
     "output_type": "execute_result"
    }
   ],
   "source": [
    "reshaping1 = x.reshape(-1,1)-y.reshape(1,-1)\n",
    "reshaping1"
   ]
  },
  {
   "cell_type": "code",
   "execution_count": 52,
   "id": "fd0274e0",
   "metadata": {},
   "outputs": [
    {
     "data": {
      "text/plain": [
       "(3, 2)"
      ]
     },
     "execution_count": 52,
     "metadata": {},
     "output_type": "execute_result"
    }
   ],
   "source": [
    "reshaping1.shape"
   ]
  },
  {
   "cell_type": "markdown",
   "id": "9f61e40b",
   "metadata": {},
   "source": [
    "*The output for `x.reshape(-1,1)-y.reshape(1,-1)` is an array that returns [-1, -4], [1, -2], [3, 0] with shape of (3, 2).*"
   ]
  },
  {
   "cell_type": "code",
   "execution_count": 53,
   "id": "783c3845",
   "metadata": {},
   "outputs": [
    {
     "data": {
      "text/plain": [
       "array([[-1,  1,  3],\n",
       "       [-4, -2,  0]])"
      ]
     },
     "execution_count": 53,
     "metadata": {},
     "output_type": "execute_result"
    }
   ],
   "source": [
    "reshape2 = x.reshape(1,-1)-y.reshape(-1,1)\n",
    "reshape2"
   ]
  },
  {
   "cell_type": "code",
   "execution_count": 54,
   "id": "6604d37d",
   "metadata": {},
   "outputs": [
    {
     "data": {
      "text/plain": [
       "(2, 3)"
      ]
     },
     "execution_count": 54,
     "metadata": {},
     "output_type": "execute_result"
    }
   ],
   "source": [
    "reshape2.shape"
   ]
  },
  {
   "cell_type": "markdown",
   "id": "d7600e03",
   "metadata": {},
   "source": [
    "*The output for `x.reshape(1,-1)-y.reshape(-1,1)` is an array that returns [-1, 1, 3], [-4, -2, 0] with shape (2, 3).*"
   ]
  },
  {
   "cell_type": "code",
   "execution_count": 55,
   "id": "2e5a7f44",
   "metadata": {},
   "outputs": [
    {
     "name": "stdout",
     "output_type": "stream",
     "text": [
      "[[-1. -4.]\n",
      " [ 1. -2.]\n",
      " [ 3.  0.]]\n"
     ]
    }
   ],
   "source": [
    "# x.reshape(-1,1)-y.reshape(1,-1)\n",
    "L = np.zeros((len(x), len(y)))  # shape = (3,2)\n",
    "\n",
    "for i in range(len(x)):        \n",
    "    for j in range(len(y)):     \n",
    "        L[i, j] = x[i] - y[j]\n",
    "\n",
    "print(L)"
   ]
  },
  {
   "cell_type": "code",
   "execution_count": 56,
   "id": "2ed08713",
   "metadata": {},
   "outputs": [
    {
     "name": "stdout",
     "output_type": "stream",
     "text": [
      "[[-1.  1.  3.]\n",
      " [-4. -2.  0.]]\n"
     ]
    }
   ],
   "source": [
    "# x.reshape(1,-1)-y.reshape(-1,1)\n",
    "L = np.zeros((len(y), len(x)))  # shape = (2, 3)\n",
    "\n",
    "for i in range(len(y)):        \n",
    "    for j in range(len(x)):     \n",
    "        L[i, j] = x[j] - y[i]\n",
    "\n",
    "print(L)"
   ]
  },
  {
   "cell_type": "markdown",
   "id": "b29f1d35",
   "metadata": {},
   "source": [
    "3. The indicator function $\\mathbb{I}\\{ x \\le z \\}$ takes the value 0 if $x>z$ and 1 if $x \\le z$ is true, or\n",
    "$$\n",
    "\\mathbb{I}\\{x \\le z\\} = \\begin{cases}\n",
    "0, &x > z \\\\\n",
    "1, &x \\le z\n",
    "\\end{cases}\n",
    "$$\n",
    "\n",
    "- For $x = 3$, plot the indicator function for any $z$\n",
    "- Explain how $ 1- \\mathbb{I}\\{ x \\le z \\} = \\mathbb{I}\\{ x > z \\}$. Drawing a plot might help, or looking at the definition given above.\n",
    "- The code below generates a random sample for different numbers of observations, $N = 3, 30, 300, 3000 $. Write a function to compute the ECDF curve for each sample, and plot your results.\n",
    "- Describe in your own words what happens to the ECDF qualitatively as the sample size $N$ increases"
   ]
  },
  {
   "cell_type": "code",
   "execution_count": 57,
   "id": "977fc723",
   "metadata": {},
   "outputs": [
    {
     "name": "stderr",
     "output_type": "stream",
     "text": [
      "/var/folders/v1/c8q_17915_v735dr_k_2fb7w0000gn/T/ipykernel_49826/4118211285.py:28: UserWarning: No artists with labels found to put in legend.  Note that artists whose label start with an underscore are ignored when legend() is called with no argument.\n",
      "  plt.legend()\n"
     ]
    },
    {
     "data": {
      "image/png": "[encoded data removed]",
      "text/plain": [
       "<Figure size 640x480 with 1 Axes>"
      ]
     },
     "metadata": {},
     "output_type": "display_data"
    }
   ],
   "source": [
    "# for x = 3, plot the indicator function for any z\n",
    "\n",
    "import matplotlib.pyplot as plt\n",
    "import seaborn as sns\n",
    "\n",
    "x = 3\n",
    "\n",
    "# grid of z values i randomly decided to use \n",
    "grid = np.linspace(0,5, 100)\n",
    "\n",
    "\n",
    "\n",
    "# define indicator function\n",
    "def indicate(x_val, grid):\n",
    "    return x_val <= grid\n",
    "\n",
    "# plot a rugplot for the single data point\n",
    "sns.rugplot([x])\n",
    "plt.title(label='indicator for any z when x=3')\n",
    "\n",
    "# compute and plot the indicator function\n",
    "F = indicate(x, grid)\n",
    "sns.lineplot(x=grid, y=F)\n",
    "\n",
    "\n",
    "plt.xlabel('z')\n",
    "plt.ylabel('indicator')\n",
    "plt.legend()\n",
    "plt.grid(True)\n",
    "plt.show()"
   ]
  },
  {
   "cell_type": "code",
   "execution_count": 58,
   "id": "5a985775",
   "metadata": {},
   "outputs": [
    {
     "name": "stderr",
     "output_type": "stream",
     "text": [
      "/var/folders/v1/c8q_17915_v735dr_k_2fb7w0000gn/T/ipykernel_49826/376113563.py:27: UserWarning: No artists with labels found to put in legend.  Note that artists whose label start with an underscore are ignored when legend() is called with no argument.\n",
      "  plt.legend()\n"
     ]
    },
    {
     "data": {
      "image/png": "[encoded data removed]",
      "text/plain": [
       "<Figure size 640x480 with 1 Axes>"
      ]
     },
     "metadata": {},
     "output_type": "display_data"
    }
   ],
   "source": [
    "# doing indicator function for x > z\n",
    "import matplotlib.pyplot as plt\n",
    "import seaborn as sns\n",
    "\n",
    "x = 3\n",
    "\n",
    "# grid of z values i randomly decided to use \n",
    "grid = np.linspace(0,5, 100)\n",
    "\n",
    "\n",
    "\n",
    "# indicator function\n",
    "def indicate(x_val, grid):\n",
    "    return x_val > grid # changing this part \n",
    "\n",
    "\n",
    "sns.rugplot([x])\n",
    "plt.title(label='indicator for any z when x=3')\n",
    "\n",
    "\n",
    "F = indicate(x, grid)\n",
    "sns.lineplot(x=grid, y=F)\n",
    "\n",
    "\n",
    "plt.xlabel('z')\n",
    "plt.ylabel('indicator')\n",
    "plt.legend()\n",
    "plt.grid(True)\n",
    "plt.show()"
   ]
  },
  {
   "cell_type": "markdown",
   "id": "c44d103d",
   "metadata": {},
   "source": [
    "*$ 1- \\mathbb{I}\\{ x \\le z \\} = \\mathbb{I}\\{ x > z \\}$ because they both are True at z = 3. This is because $ 1- \\mathbb{I}\\{ x \\le z \\}$ has the $1 -$ in front of it, so it flips the 0s to 1s and the 1s to 0s since the indicator value can only be either True (1) or False (0).*"
   ]
  },
  {
   "cell_type": "code",
   "execution_count": 59,
   "id": "17ad7d01",
   "metadata": {},
   "outputs": [
    {
     "data": {
      "image/png": "[encoded data removed]",
      "text/plain": [
       "<Figure size 640x480 with 1 Axes>"
      ]
     },
     "metadata": {},
     "output_type": "display_data"
    }
   ],
   "source": [
    "import numpy as np\n",
    "import seaborn as sns\n",
    "\n",
    "rng = np.random.default_rng(100)\n",
    "\n",
    "def indicate(x,grid): \n",
    "    ''' Indicator function for computing ECDFs. '''\n",
    "    return x <= grid\n",
    "\n",
    "for N in (3,30,300,3000):\n",
    "    X = rng.normal(0,1,N)\n",
    "    # ECDF plot goes here:\n",
    "\n",
    "    grid = np.linspace(X.min()-X.std(), X.max()+X.std(), 100) # Create a grid\n",
    "    ecdf = 0*grid.copy() # Create a space for values\n",
    "\n",
    "    for i in X:\n",
    "        F_i = indicate(i,grid)\n",
    "        ecdf += F_i\n",
    "\n",
    "    ecdf = ecdf/len(X) # normalize\n",
    "    sns.lineplot(x=grid, y=ecdf, label=f\"N={N}\")\n",
    "    \n",
    "plt.show()    \n"
   ]
  },
  {
   "cell_type": "markdown",
   "id": "45c8f6f0",
   "metadata": {},
   "source": [
    "*The ECDF curves for each sample size shows that as the sample size increases, the smoother the curve becomes. There's less jagged-ness to the curve. This could mean that the smaller sample size ECDF are more closely following individual points (why it's jumping like that) and larger sample size ECDF aren't following individual data points that closely, so it's not jumping up in steps like a smaller sample size would.*"
   ]
  },
  {
   "cell_type": "markdown",
   "id": "6c8f1ebb",
   "metadata": {},
   "source": [
    "4. A **quantile** generalizes the concept of the median so that instead of 50% of the mass below and 50% above, the $q$-quantile is the value for which $q$ proportion of the data are below that value and $(1-q)$ proportion of the data are above that value. This is a concept of **order**.\n",
    "\n",
    "- Write a function that computes any quantile without using Numpy's `np.quantile`\n",
    "- Write a function that computes the **Interquartile Range (IQR)** -- the .25 quantile and the .75 quantile, which brackets 50% of the data -- and the **whiskers**: $\\pm 1.5 \\times \\text{IQR}$ from the edges of the IQR\n",
    "- Write a function that computes a five-number summary and values for a boxplot: the minimum, the .25 quantile, the median, the .75 quantile, and the maximum, and the whiskers\n",
    "- Anything outside the whiskers is an **outlier**; write a function that returns a Boolean vector indicating if the observations are outliers.\n",
    "- For a numeric variable of your choice from one of the datasets, apply your functions from above, and compare your answers with `sns.boxplot` and `df.describe`. "
   ]
  },
  {
   "cell_type": "code",
   "execution_count": 74,
   "id": "48353952",
   "metadata": {},
   "outputs": [
    {
     "data": {
      "image/png": "[encoded data removed]",
      "text/plain": [
       "<Figure size 640x480 with 1 Axes>"
      ]
     },
     "metadata": {},
     "output_type": "display_data"
    }
   ],
   "source": [
    "# using ecdf function to get f hat values to calculate q aka quantile for testing \n",
    "\n",
    "\n",
    "def indicate(x,grid): \n",
    "    ''' Indicator function for computing ECDFs. '''\n",
    "    return x <= grid\n",
    "\n",
    "\n",
    "    # ECDF plot goes here:\n",
    "\n",
    "rng = np.random.default_rng(100)\n",
    "x = rng.normal(0,1,300)\n",
    "grid = np.linspace(x.min()-x.std(), x.max()+x.std(), 100) # Create a grid\n",
    "ecdf = 0*grid.copy() # Create a space for values\n",
    "\n",
    "for i in x:\n",
    "        F_i = indicate(i,grid)\n",
    "        ecdf += F_i\n",
    "\n",
    "ecdf = ecdf/len(x) # normalize\n",
    "sns.lineplot(x=grid, y=ecdf)\n",
    "\n",
    "\n",
    "\n",
    "\n",
    "plt.show()"
   ]
  },
  {
   "cell_type": "code",
   "execution_count": 75,
   "id": "e4593386",
   "metadata": {},
   "outputs": [
    {
     "name": "stdout",
     "output_type": "stream",
     "text": [
      "[0.         0.         0.         0.         0.         0.\n",
      " 0.         0.         0.         0.         0.         0.\n",
      " 0.         0.         0.00333333 0.00333333 0.00333333 0.00333333\n",
      " 0.00333333 0.00333333 0.00333333 0.00666667 0.00666667 0.00666667\n",
      " 0.00666667 0.01       0.02333333 0.02666667 0.02666667 0.04\n",
      " 0.04333333 0.05333333 0.05333333 0.07       0.08       0.1\n",
      " 0.11333333 0.15333333 0.16333333 0.19       0.21333333 0.22\n",
      " 0.24666667 0.27666667 0.30666667 0.34333333 0.36       0.38\n",
      " 0.39666667 0.43333333 0.46666667 0.47666667 0.51       0.54\n",
      " 0.57666667 0.61666667 0.64666667 0.67666667 0.70333333 0.72\n",
      " 0.75333333 0.77       0.79333333 0.81       0.81333333 0.82333333\n",
      " 0.84       0.86       0.88666667 0.90333333 0.91666667 0.92\n",
      " 0.94       0.94333333 0.94666667 0.95333333 0.96666667 0.96666667\n",
      " 0.97333333 0.97666667 0.98       0.98333333 0.99       0.99333333\n",
      " 0.99333333 0.99333333 1.         1.         1.         1.\n",
      " 1.         1.         1.         1.         1.         1.\n",
      " 1.         1.         1.         1.        ]\n"
     ]
    }
   ],
   "source": [
    "# getting f hat from ecdf\n",
    "F_hat = ecdf\n",
    "print(F_hat)"
   ]
  },
  {
   "cell_type": "code",
   "execution_count": 76,
   "id": "ea9ffc80",
   "metadata": {},
   "outputs": [
    {
     "data": {
      "text/plain": [
       "np.float64(-0.6947300753459446)"
      ]
     },
     "execution_count": 76,
     "metadata": {},
     "output_type": "execute_result"
    }
   ],
   "source": [
    "# after getting f hat vaue from ecdf above, can use those numbers to compute quantile\n",
    "\n",
    "def compute_quantile(F_hat, grid, quantile):\n",
    "    idx = np.searchsorted(F_hat, quantile)\n",
    "    if idx == 0:\n",
    "        return grid[0]\n",
    "    elif idx == len(F_hat):\n",
    "        return grid[-1]\n",
    "    x0, x1 = grid[idx - 1], grid[idx]\n",
    "    y0, y1 = F_hat[idx - 1], F_hat[idx]\n",
    "    # Linear interpolation for median:\n",
    "    t = (quantile - y0) / (y1 - y0)\n",
    "    return x0 + t * (x1 - x0)\n",
    "\n",
    "# looking to see if it works\n",
    "compute_quantile(F_hat, grid, 0.25)"
   ]
  },
  {
   "cell_type": "code",
   "execution_count": 77,
   "id": "0382170a",
   "metadata": {},
   "outputs": [
    {
     "data": {
      "text/plain": [
       "(np.float64(-0.6947300753459446),\n",
       " np.float64(0.644062811549033),\n",
       " np.float64(1.3387928868949777),\n",
       " np.float64(-2.702919405688411),\n",
       " np.float64(2.6522521418914993))"
      ]
     },
     "execution_count": 77,
     "metadata": {},
     "output_type": "execute_result"
    }
   ],
   "source": [
    "# calculating interquartile range and the whiskers\n",
    "def compute_IQR_and_whiskers(F_hat, grid):\n",
    "\n",
    "    quantile_25 = compute_quantile(F_hat, grid, 0.25)\n",
    "    quantile_75 = compute_quantile(F_hat, grid, 0.75)\n",
    "    \n",
    "  \n",
    "    IQR = quantile_75 - quantile_25\n",
    "    \n",
    "   # note: whiskers are plus/minus 1.5 * IQR\n",
    "    lower_whisker = quantile_25 - 1.5 * IQR\n",
    "    upper_whisker = quantile_75 + 1.5 * IQR\n",
    "    \n",
    "    return quantile_25, quantile_75, IQR, lower_whisker, upper_whisker\n",
    "\n",
    "# looking to see if it works\n",
    "compute_IQR_and_whiskers(F_hat, grid)\n"
   ]
  },
  {
   "cell_type": "code",
   "execution_count": 78,
   "id": "a2f5330b",
   "metadata": {},
   "outputs": [
    {
     "data": {
      "text/plain": [
       "((np.float64(-0.6947300753459446),\n",
       "  np.float64(0.644062811549033),\n",
       "  np.float64(1.3387928868949777),\n",
       "  np.float64(-2.702919405688411),\n",
       "  np.float64(2.6522521418914993)),\n",
       " np.float64(0.02693030028826244))"
      ]
     },
     "execution_count": 78,
     "metadata": {},
     "output_type": "execute_result"
    }
   ],
   "source": [
    "def five_number_summary(F_hat, grid): \n",
    "    IQR_whiskers = compute_IQR_and_whiskers(F_hat, grid)\n",
    "    median = compute_quantile(F_hat, grid, 0.5)\n",
    "    return IQR_whiskers, median\n",
    "\n",
    "\n",
    "five_number_summary(F_hat, grid)\n"
   ]
  },
  {
   "cell_type": "code",
   "execution_count": 79,
   "id": "28f4cf53",
   "metadata": {},
   "outputs": [
    {
     "data": {
      "text/plain": [
       "array([False, False, False, False, False, False, False, False, False,\n",
       "       False, False, False, False, False, False, False, False, False,\n",
       "       False, False, False, False, False, False, False, False, False,\n",
       "       False, False, False, False, False, False, False, False, False,\n",
       "       False, False, False, False, False, False, False, False, False,\n",
       "       False, False, False, False, False, False, False, False, False,\n",
       "       False, False, False, False, False, False, False, False, False,\n",
       "       False, False, False, False, False, False, False, False, False,\n",
       "       False, False, False, False, False, False, False, False, False,\n",
       "       False, False, False, False, False, False, False, False, False,\n",
       "       False, False, False, False, False, False, False, False, False,\n",
       "       False, False, False, False, False, False, False, False, False,\n",
       "       False, False, False, False, False, False, False, False, False,\n",
       "       False, False, False, False, False, False, False, False, False,\n",
       "       False, False, False, False, False, False, False, False, False,\n",
       "       False, False, False, False, False, False, False, False, False,\n",
       "       False, False, False, False, False, False, False, False, False,\n",
       "       False, False, False, False, False, False, False, False, False,\n",
       "       False, False, False, False, False, False, False, False, False,\n",
       "       False, False, False, False, False, False, False, False, False,\n",
       "       False, False, False, False, False, False, False, False, False,\n",
       "       False, False, False, False, False, False, False, False, False,\n",
       "       False,  True, False, False, False, False, False, False, False,\n",
       "       False, False, False, False, False, False, False, False, False,\n",
       "       False, False, False, False, False, False, False, False, False,\n",
       "       False, False, False, False, False, False, False, False, False,\n",
       "       False, False, False, False, False, False, False, False, False,\n",
       "       False, False, False, False, False, False, False, False, False,\n",
       "       False, False, False, False, False, False, False, False, False,\n",
       "       False, False, False, False, False, False, False, False, False,\n",
       "       False, False, False, False, False, False, False, False, False,\n",
       "       False, False, False, False, False, False, False, False, False,\n",
       "       False, False, False, False, False, False, False, False, False,\n",
       "       False, False, False])"
      ]
     },
     "execution_count": 79,
     "metadata": {},
     "output_type": "execute_result"
    }
   ],
   "source": [
    "# outlier function\n",
    "def outliers(F_hat, grid, x):\n",
    "# using previous function\n",
    "    quartile_25, quartile_75, IQR, lower_whisker, upper_whisker = compute_IQR_and_whiskers(F_hat, grid)\n",
    "    \n",
    "    outlier_points = (x < lower_whisker) | (x > upper_whisker)\n",
    "    \n",
    "    return outlier_points\n",
    "\n",
    "outliers(F_hat, grid, x)"
   ]
  },
  {
   "cell_type": "code",
   "execution_count": 80,
   "id": "e058be59",
   "metadata": {},
   "outputs": [
    {
     "data": {
      "application/vnd.microsoft.datawrangler.viewer.v0+json": {
       "columns": [
        {
         "name": "index",
         "rawType": "int64",
         "type": "integer"
        },
        {
         "name": "Invoice/Item Number",
         "rawType": "object",
         "type": "string"
        },
        {
         "name": "Date",
         "rawType": "object",
         "type": "string"
        },
        {
         "name": "Store Number",
         "rawType": "int64",
         "type": "integer"
        },
        {
         "name": "Store Name",
         "rawType": "object",
         "type": "string"
        },
        {
         "name": "Zip Code",
         "rawType": "object",
         "type": "unknown"
        },
        {
         "name": "Category Name",
         "rawType": "object",
         "type": "unknown"
        },
        {
         "name": "Vendor Name",
         "rawType": "object",
         "type": "string"
        },
        {
         "name": "Item Number",
         "rawType": "int64",
         "type": "integer"
        },
        {
         "name": "Item Description",
         "rawType": "object",
         "type": "string"
        },
        {
         "name": "Bottle Volume (ml)",
         "rawType": "int64",
         "type": "integer"
        },
        {
         "name": "State Bottle Cost",
         "rawType": "float64",
         "type": "float"
        },
        {
         "name": "State Bottle Retail",
         "rawType": "float64",
         "type": "float"
        },
        {
         "name": "Bottles Sold",
         "rawType": "int64",
         "type": "integer"
        },
        {
         "name": "Sale (Dollars)",
         "rawType": "float64",
         "type": "float"
        },
        {
         "name": "profitable_bottles",
         "rawType": "float64",
         "type": "float"
        }
       ],
       "ref": "6afb2b2e-d749-424c-b4d4-4a6ccbc4ae8f",
       "rows": [
        [
         "0",
         "INV-59108400026",
         "06/06/2023",
         "3723",
         "J D SPIRITS LIQUOR",
         "51040",
         "STRAIGHT RYE WHISKIES",
         "INFINIUM SPIRITS",
         "27102",
         "TEMPLETON RYE 4YR",
         "750",
         "18.09",
         "27.14",
         "2",
         "54.28",
         "9.05"
        ],
        [
         "1",
         "S16879800057",
         "01/16/2014",
         "3926",
         "LIQUOR DOWNTOWN / IOWA CITY",
         "52240",
         "VODKA 80 PROOF",
         "HEAVEN HILL BRANDS",
         "35416",
         "BURNETT'S VODKA 80 PRF",
         "750",
         "4.84",
         "7.26",
         "12",
         "87.12",
         "2.42"
        ],
        [
         "2",
         "INV-05301100019",
         "06/05/2017",
         "3829",
         "GARY'S FOODS / MT VERNON",
         "52314",
         "CANADIAN WHISKIES",
         "DIAGEO AMERICAS",
         "11296",
         "CROWN ROYAL",
         "750",
         "15.59",
         "23.39",
         "6",
         "135.66",
         "7.800000000000001"
        ],
        [
         "3",
         "INV-40973500083",
         "10/14/2021",
         "5102",
         "WILKIE LIQUORS",
         "52314",
         "AMERICAN SCHNAPPS",
         "JIM BEAM BRANDS",
         "82787",
         "DEKUYPER BUTTERSHOTS",
         "1000",
         "7.87",
         "11.81",
         "12",
         "141.72",
         "3.9400000000000004"
        ],
        [
         "4",
         "INV-17022500013",
         "01/18/2019",
         "2560",
         "HY-VEE FOOD STORE / MARION",
         "52302",
         "WHISKEY LIQUEUR",
         "SAZERAC COMPANY  INC",
         "64863",
         "FIREBALL CINNAMON WHISKEY",
         "200",
         "2.5",
         "3.75",
         "12",
         "45.0",
         "1.25"
        ],
        [
         "5",
         "S32243000024",
         "05/10/2016",
         "5167",
         "NEW STAR LIQUOR & TOBACCO  / FT DODG",
         "50501",
         "IRISH WHISKIES",
         "PERNOD RICARD USA/AUSTIN NICHOLS",
         "15677",
         "POWERS IRISH WHISKEY",
         "1000",
         "16.49",
         "24.74",
         "1",
         "24.74",
         "8.25"
        ],
        [
         "6",
         "S16316700048",
         "12/18/2013",
         "2536",
         "HY-VEE / PLEASANT HILL",
         "50317",
         "PUERTO RICO & VIRGIN ISLANDS RUM",
         "BACARDI U.S.A., INC.",
         "43036",
         "BACARDI GOLD RUM",
         "750",
         "7.54",
         "11.31",
         "12",
         "135.72",
         "3.7700000000000005"
        ],
        [
         "7",
         "INV-84044800086",
         "06/30/2025",
         "2637",
         "HY-VEE #5 / DAVENPORT",
         "52804",
         "AMERICAN BRANDIES",
         "SAZERAC COMPANY  INC",
         "55066",
         "MR BOSTON BLACKBERRY BRANDY",
         "750",
         "5.0",
         "7.5",
         "12",
         "90.0",
         "2.5"
        ],
        [
         "8",
         "INV-14344700002",
         "09/10/2018",
         "3611",
         "LOGAN SUPER FOODS",
         "51546",
         "CANADIAN WHISKIES",
         "JIM BEAM BRANDS",
         "15246",
         "WINDSOR CANADIAN",
         "750",
         "4.67",
         "7.01",
         "12",
         "84.12",
         "2.34"
        ],
        [
         "9",
         "S08759700117",
         "11/05/2012",
         "2623",
         "HY-VEE FOOD STORE #4 / SIOUX CITY",
         "51104",
         "SPICED RUM",
         "DIAGEO AMERICAS",
         "43334",
         "CAPTAIN MORGAN SPICED RUM",
         "375",
         "4.5",
         "6.74",
         "6",
         "40.44",
         "2.24"
        ],
        [
         "10",
         "INV-42530100003",
         "12/02/2021",
         "4200",
         "FAREWAY STORES #019 / SIOUX CITY",
         "51108",
         "TENNESSEE WHISKIES",
         "BROWN FORMAN CORP.",
         "86670",
         "JACK DANIELS TENNESSEE HONEY",
         "750",
         "15.57",
         "23.36",
         "12",
         "280.32",
         "7.789999999999999"
        ],
        [
         "11",
         "S27608800016",
         "08/31/2015",
         "2460",
         "LIQUOR BARN, INC.",
         "50441",
         "TEQUILA",
         "PROXIMO",
         "89197",
         "JOSE CUERVO ESPECIAL REPOSADO TEQUILA",
         "1000",
         "12.5",
         "18.75",
         "12",
         "225.0",
         "6.25"
        ],
        [
         "12",
         "INV-19691600001",
         "05/30/2019",
         "5293",
         "THE BOONEDOCKS",
         "51331",
         "IMPORTED FLAVORED VODKA",
         "PERNOD RICARD USA",
         "34117",
         "ABSOLUT MANDRIN",
         "1000",
         "14.99",
         "22.49",
         "3",
         "67.47",
         "7.499999999999998"
        ],
        [
         "13",
         "INV-12636900132",
         "06/13/2018",
         "2501",
         "HY-VEE  #2 / AMES",
         "50010",
         "AMERICAN FLAVORED VODKA",
         "DIAGEO AMERICAS",
         "77870",
         "SMIRNOFF SOURS FRUIT PUNCH",
         "750",
         "8.25",
         "12.38",
         "12",
         "148.56",
         "4.130000000000001"
        ],
        [
         "14",
         "INV-63703900043",
         "10/27/2023",
         "2606",
         "HY-VEE WINE AND SPIRITS / HUMBOLDT",
         "50548",
         "COCKTAILS/RTD",
         "PROXIMO",
         "58872",
         "JOSE CUERVO AUTHENTIC LIGHT LIME MARGARITA",
         "1750",
         "8.74",
         "13.11",
         "6",
         "78.66",
         "4.369999999999999"
        ],
        [
         "15",
         "INV-20770900015",
         "07/22/2019",
         "5360",
         "SUPER SAVER LIQUOR",
         "52802",
         "AMERICAN VODKAS",
         "MCCORMICK DISTILLING CO.",
         "36903",
         "MCCORMICK VODKA",
         "200",
         "1.13",
         "1.7",
         "48",
         "81.6",
         "0.5700000000000001"
        ],
        [
         "16",
         "INV-70783900001",
         "06/02/2024",
         "4359",
         "KUM & GO #75 / WAUKEE",
         "50263",
         "CANADIAN WHISKIES",
         "DIAGEO AMERICAS",
         "11294",
         "CROWN ROYAL",
         "375",
         "8.49",
         "12.74",
         "12",
         "152.88",
         "4.25"
        ],
        [
         "17",
         "INV-03805800143",
         "03/15/2017",
         "2603",
         "HY-VEE WINE AND SPIRITS / BETTENDORF",
         "52722",
         "TENNESSEE WHISKIES",
         "BROWN FORMAN CORP.",
         "26828",
         "JACK DANIELS OLD #7 BLACK LBL",
         "1750",
         "30.68",
         "46.02",
         "3",
         "138.06",
         "15.340000000000003"
        ],
        [
         "18",
         "INV-01004500010",
         "10/17/2016",
         "3461",
         "HOMETOWN FOODS / STUART",
         "50250",
         "AMERICAN VODKAS",
         "LUXCO INC",
         "36308",
         "HAWKEYE VODKA",
         "1750",
         "7.17",
         "10.76",
         "6",
         "64.56",
         "3.59"
        ],
        [
         "19",
         "INV-09201100006",
         "12/13/2017",
         "3592",
         "WAL-MART 0886 / FORT DODGE",
         "50501",
         "WHISKEY LIQUEUR",
         "SAZERAC COMPANY  INC",
         "86886",
         "SOUTHERN COMFORT",
         "750",
         "10.33",
         "15.5",
         "12",
         "186.0",
         "5.17"
        ],
        [
         "20",
         "S28830400006",
         "11/03/2015",
         "4661",
         "QUIK TRIP #531 / GRIMES",
         "50111",
         "CANADIAN WHISKIES",
         "CONSTELLATION WINE COMPANY, INC.",
         "11776",
         "BLACK VELVET",
         "750",
         "5.23",
         "7.85",
         "12",
         "94.2",
         "2.619999999999999"
        ],
        [
         "21",
         "INV-58686200045",
         "05/22/2023",
         "3563",
         "WAL-MART 0559 / MUSCATINE",
         "52761",
         "MIXTO TEQUILA",
         "PROXIMO",
         "87408",
         "JOSE CUERVO ESPECIAL SILVER",
         "750",
         "12.0",
         "18.0",
         "12",
         "216.0",
         "6.0"
        ],
        [
         "22",
         "INV-68308800051",
         "03/17/2024",
         "2606",
         "HY-VEE WINE AND SPIRITS / HUMBOLDT",
         "50548",
         "100% AGAVE TEQUILA",
         "LALO SPIRITS LLC",
         "85788",
         "LALO TEQUILA BLANCO",
         "750",
         "24.0",
         "36.0",
         "3",
         "108.0",
         "12.0"
        ],
        [
         "23",
         "INV-69564600020",
         "04/25/2024",
         "10067",
         "BP TO GO #2 / CEDAR RAPIDS",
         "52402",
         "SPICED RUM",
         "DIAGEO AMERICAS",
         "43331",
         "CAPTAIN MORGAN ORIGINAL SPICED MINI",
         "50",
         "4.8",
         "7.2",
         "5",
         "36.0",
         "2.4000000000000004"
        ],
        [
         "24",
         "INV-56832900029",
         "03/21/2023",
         "3719",
         "WAL-MART 0581 / MARSHALLTOWN",
         "50158",
         "AMERICAN FLAVORED VODKA",
         "INTERCONTINENTAL PACKAGING COMPANY/PRESTIGE BEVERAGE GROUP",
         "75210",
         "KINKY PINK",
         "750",
         "10.0",
         "15.0",
         "6",
         "90.0",
         "5.0"
        ],
        [
         "25",
         "INV-19733300052",
         "05/31/2019",
         "3963",
         "TOBACCO HUT #14 / COUNCIL BLUFFS",
         "51501",
         "AMERICAN BRANDIES",
         "CONSTELLATION BRANDS INC",
         "56793",
         "PAUL MASSON APPLE GRANDE AMBER BRANDY",
         "750",
         "6.41",
         "9.62",
         "2",
         "19.24",
         "3.209999999999999"
        ],
        [
         "26",
         "S05822000086",
         "05/31/2012",
         "2544",
         "HY-VEE FOOD STORE / MARSHALLTOWN",
         "50158",
         "MISC. AMERICAN CORDIALS & LIQUEURS",
         "PRESTIGE WINE AND SPIRITS GROUP",
         "75210",
         "KINKY LIQUEUR",
         "750",
         "10.0",
         "15.0",
         "18",
         "270.0",
         "5.0"
        ],
        [
         "27",
         "S33703200001",
         "08/04/2016",
         "2633",
         "HY-VEE #3 / BDI / DES MOINES",
         "50320",
         "ANISETTE",
         "JIM BEAM BRANDS",
         "902552",
         "DEKUYPER ANISETTE",
         "750",
         "5.25",
         "7.88",
         "60",
         "472.8",
         "2.63"
        ],
        [
         "28",
         "INV-70411800015",
         "05/21/2024",
         "4565",
         "KUM & GO #228 / SIOUX CITY",
         "51106",
         "WHISKEY LIQUEUR",
         "SAZERAC COMPANY  INC",
         "86884",
         "SOUTHERN COMFORT",
         "375",
         "4.78",
         "7.17",
         "12",
         "86.04",
         "2.3899999999999997"
        ],
        [
         "29",
         "S29307300001",
         "11/24/2015",
         "4433",
         "KUM & GO #24  PLEASANT HILL",
         "50317",
         "IMPORTED VODKAS",
         "CONSTELLATION WINE COMPANY, INC.",
         "34820",
         "SVEDKA VODKA",
         "750",
         "8.25",
         "12.38",
         "12",
         "148.56",
         "4.130000000000001"
        ],
        [
         "30",
         "INV-05413400119",
         "06/08/2017",
         "2593",
         "HY-VEE FOOD STORE / CARROLL",
         "51401",
         "IMPORTED FLAVORED VODKA",
         "PERNOD RICARD USA",
         "34014",
         "ABSOLUT APEACH",
         "750",
         "11.49",
         "17.24",
         "4",
         "68.96",
         "5.749999999999998"
        ],
        [
         "31",
         "S31385600012",
         "03/22/2016",
         "2629",
         "HY-VEE FOOD STORE #2 / COUNCIL BLUFF",
         "51503",
         "VODKA 80 PROOF",
         "PHILLIPS BEVERAGE COMPANY",
         "37356",
         "PHILLIPS VODKA EZ PACK",
         "750",
         "3.57",
         "5.36",
         "12",
         "64.32",
         "1.7900000000000005"
        ],
        [
         "32",
         "INV-37656700041",
         "06/21/2021",
         "2552",
         "HY-VEE FOOD STORE #3 / CEDAR RAPIDS",
         "52404",
         "AMERICAN FLAVORED VODKA",
         "E & J GALLO WINERY",
         "40193",
         "NEW AMSTERDAM PINEAPPLE",
         "750",
         "7.5",
         "11.25",
         "12",
         "135.0",
         "3.75"
        ],
        [
         "33",
         "INV-35723200113",
         "04/12/2021",
         "2633",
         "HY-VEE #3 / BDI / DES MOINES",
         "50320",
         "100% AGAVE TEQUILA",
         "DIAGEO AMERICAS",
         "87485",
         "DON JULIO BLANCO",
         "750",
         "29.5",
         "44.25",
         "18",
         "796.5",
         "14.75"
        ],
        [
         "34",
         "INV-70872800011",
         "06/04/2024",
         "5188",
         "KUM & GO #251 / SIOUX CITY",
         "51101",
         "IMPORTED VODKAS",
         "PERNOD RICARD USA",
         "34001",
         "ABSOLUT SWEDISH VODKA 80PRF MINI",
         "50",
         "7.92",
         "11.88",
         "10",
         "118.8",
         "3.960000000000001"
        ],
        [
         "35",
         "INV-56929000033",
         "03/24/2023",
         "6130",
         "HIWAY 20 LIQUOR AND TOBACCO / FORT DODGE",
         "50501",
         "IMPORTED SCHNAPPS",
         "SAZERAC COMPANY  INC",
         "69706",
         "DR MCGILLICUDDYS ROOT BEER",
         "750",
         "8.66",
         "12.99",
         "3",
         "38.97",
         "4.33"
        ],
        [
         "36",
         "INV-41472300019",
         "10/29/2021",
         "4369",
         "KUM & GO #28 / NORWALK",
         "50211",
         "FLAVORED RUM",
         "BACARDI USA INC",
         "43051",
         "BACARDI DRAGON BERRY",
         "750",
         "8.26",
         "12.39",
         "3",
         "37.17",
         "4.130000000000001"
        ],
        [
         "37",
         "S14069100012",
         "08/22/2013",
         "4410",
         "KUM & GO #203 / PERRY",
         "50220",
         "PEPPERMINT SCHNAPPS",
         "LUXCO-ST LOUIS",
         "81204",
         "PARAMOUNT PEPPERMINT SCHNAPPS",
         "375",
         "2.27",
         "3.41",
         "6",
         "20.46",
         "1.1400000000000001"
        ],
        [
         "38",
         "S04572500067",
         "03/15/2012",
         "2637",
         "HY-VEE #5 / DAVENPORT",
         "52804",
         "PUERTO RICO & VIRGIN ISLANDS RUM",
         "LUXCO-ST LOUIS",
         "45278",
         "PARAMOUNT WHITE RUM",
         "1750",
         "7.58",
         "11.37",
         "12",
         "136.44",
         "3.789999999999999"
        ],
        [
         "39",
         "INV-81451800001",
         "04/09/2025",
         "6115",
         "CASEY'S #3920 / MOUNT PLEASANT",
         "52641",
         "STRAIGHT BOURBON WHISKIES",
         "JIM BEAM BRANDS",
         "19064",
         "JIM BEAM",
         "375",
         "6.1",
         "9.15",
         "24",
         "219.6",
         "3.0500000000000007"
        ],
        [
         "40",
         "S22654000028",
         "12/01/2014",
         "2599",
         "HY-VEE WINE AND SPIRITS / CORALVILLE",
         "52241",
         "BARBADOS RUM",
         "SHAW ROSS INTERNATIONAL IMPORTERS LL",
         "44266",
         "BRITISH NAVY PUSSER'S RUM",
         "750",
         "12.02",
         "18.03",
         "18",
         "324.54",
         "6.010000000000002"
        ],
        [
         "41",
         "INV-28561800034",
         "07/08/2020",
         "2673",
         "HY-VEE # 6/ DES MOINES",
         "50309",
         "AMERICAN FLAVORED VODKA",
         "HEAVEN HILL BRANDS",
         "41326",
         "BURNETTS CITRUS",
         "750",
         "4.5",
         "6.75",
         "12",
         "81.0",
         "2.25"
        ],
        [
         "42",
         "INV-17686900004",
         "02/20/2019",
         "5351",
         "DOWNTOWN LIQUOR",
         "51101",
         "CANADIAN WHISKIES",
         "CONSTELLATION BRANDS INC",
         "11771",
         "BLACK VELVET MINI",
         "600",
         "6.8",
         "10.2",
         "10",
         "102.0",
         "3.3999999999999995"
        ],
        [
         "43",
         "S17263800120",
         "02/06/2014",
         "2633",
         "HY-VEE #3 / BDI / DES MOINES",
         "50320",
         "MISC. IMPORTED CORDIALS & LIQUEURS",
         "REMY COINTREAU USA         .",
         "64776",
         "COINTREAU LIQUEUR",
         "750",
         "19.99",
         "29.99",
         "36",
         "1079.64",
         "10.0"
        ],
        [
         "44",
         "INV-18213200015",
         "03/19/2019",
         "5705",
         "KEYSTONE LIQUOR AND WINE",
         "52241",
         "IMPORTED BRANDIES",
         "REMY COINTREAU USA INC",
         "49185",
         "REMY MARTIN VSOP FLASK",
         "375",
         "11.59",
         "17.39",
         "24",
         "417.36",
         "5.800000000000001"
        ],
        [
         "45",
         "INV-19339000094",
         "05/14/2019",
         "2621",
         "HY-VEE FOOD STORE #3 / SIOUX CITY",
         "51105",
         "AMERICAN VODKAS",
         "SAZERAC COMPANY  INC",
         "37416",
         "POPOV 80PRF",
         "750",
         "4.5",
         "6.75",
         "2",
         "13.5",
         "2.25"
        ],
        [
         "46",
         "S14286700006",
         "09/04/2013",
         "4357",
         "KUM & GO #125 / STORY CITY",
         "50248",
         "VODKA 80 PROOF",
         "LUXCO-ST LOUIS",
         "36308",
         "HAWKEYE VODKA",
         "1750",
         "7.17",
         "10.76",
         "12",
         "129.12",
         "3.59"
        ],
        [
         "47",
         "INV-09592700116",
         "01/03/2018",
         "2670",
         "HY-VEE FOOD STORE / CORALVILLE",
         "52241",
         "AMERICAN SCHNAPPS",
         "JIM BEAM BRANDS",
         "82898",
         "DEKUYPER MIXED BERRY MEDLEY",
         "1000",
         "7.87",
         "11.81",
         "12",
         "141.72",
         "3.9400000000000004"
        ],
        [
         "48",
         "S11170100008",
         "03/19/2013",
         "3390",
         "OKOBOJI AVENUE LIQUOR",
         "51351",
         "CREAM LIQUEURS",
         "LUXCO-ST LOUIS",
         "68842",
         "ST. BRENDAN'S SUPERIOR IRISH CREAM LIQUEUR",
         "1000",
         "10.68",
         "16.03",
         "12",
         "192.36",
         "5.350000000000001"
        ],
        [
         "49",
         "INV-47099800026",
         "05/04/2022",
         "2502",
         "HY-VEE WINE AND SPIRITS / ANKENY",
         "50021",
         "BLENDED WHISKIES",
         "BRECKENRIDGE DISTILLERY / DOUBLE DIAMOND DISTILLERY LLC",
         "927461",
         "SOOH BRECKENRIDGE BOURBON",
         "750",
         "28.5",
         "42.75",
         "6",
         "256.5",
         "14.25"
        ]
       ],
       "shape": {
        "columns": 15,
        "rows": 159904
       }
      },
      "text/html": [
       "<div>\n",
       "<style scoped>\n",
       "    .dataframe tbody tr th:only-of-type {\n",
       "        vertical-align: middle;\n",
       "    }\n",
       "\n",
       "    .dataframe tbody tr th {\n",
       "        vertical-align: top;\n",
       "    }\n",
       "\n",
       "    .dataframe thead th {\n",
       "        text-align: right;\n",
       "    }\n",
       "</style>\n",
       "<table border=\"1\" class=\"dataframe\">\n",
       "  <thead>\n",
       "    <tr style=\"text-align: right;\">\n",
       "      <th></th>\n",
       "      <th>Invoice/Item Number</th>\n",
       "      <th>Date</th>\n",
       "      <th>Store Number</th>\n",
       "      <th>Store Name</th>\n",
       "      <th>Zip Code</th>\n",
       "      <th>Category Name</th>\n",
       "      <th>Vendor Name</th>\n",
       "      <th>Item Number</th>\n",
       "      <th>Item Description</th>\n",
       "      <th>Bottle Volume (ml)</th>\n",
       "      <th>State Bottle Cost</th>\n",
       "      <th>State Bottle Retail</th>\n",
       "      <th>Bottles Sold</th>\n",
       "      <th>Sale (Dollars)</th>\n",
       "      <th>profitable_bottles</th>\n",
       "    </tr>\n",
       "  </thead>\n",
       "  <tbody>\n",
       "    <tr>\n",
       "      <th>0</th>\n",
       "      <td>INV-59108400026</td>\n",
       "      <td>06/06/2023</td>\n",
       "      <td>3723</td>\n",
       "      <td>J D SPIRITS LIQUOR</td>\n",
       "      <td>51040</td>\n",
       "      <td>STRAIGHT RYE WHISKIES</td>\n",
       "      <td>INFINIUM SPIRITS</td>\n",
       "      <td>27102</td>\n",
       "      <td>TEMPLETON RYE 4YR</td>\n",
       "      <td>750</td>\n",
       "      <td>18.09</td>\n",
       "      <td>27.14</td>\n",
       "      <td>2</td>\n",
       "      <td>54.28</td>\n",
       "      <td>9.05</td>\n",
       "    </tr>\n",
       "    <tr>\n",
       "      <th>1</th>\n",
       "      <td>S16879800057</td>\n",
       "      <td>01/16/2014</td>\n",
       "      <td>3926</td>\n",
       "      <td>LIQUOR DOWNTOWN / IOWA CITY</td>\n",
       "      <td>52240</td>\n",
       "      <td>VODKA 80 PROOF</td>\n",
       "      <td>HEAVEN HILL BRANDS</td>\n",
       "      <td>35416</td>\n",
       "      <td>BURNETT'S VODKA 80 PRF</td>\n",
       "      <td>750</td>\n",
       "      <td>4.84</td>\n",
       "      <td>7.26</td>\n",
       "      <td>12</td>\n",
       "      <td>87.12</td>\n",
       "      <td>2.42</td>\n",
       "    </tr>\n",
       "    <tr>\n",
       "      <th>2</th>\n",
       "      <td>INV-05301100019</td>\n",
       "      <td>06/05/2017</td>\n",
       "      <td>3829</td>\n",
       "      <td>GARY'S FOODS / MT VERNON</td>\n",
       "      <td>52314</td>\n",
       "      <td>CANADIAN WHISKIES</td>\n",
       "      <td>DIAGEO AMERICAS</td>\n",
       "      <td>11296</td>\n",
       "      <td>CROWN ROYAL</td>\n",
       "      <td>750</td>\n",
       "      <td>15.59</td>\n",
       "      <td>23.39</td>\n",
       "      <td>6</td>\n",
       "      <td>135.66</td>\n",
       "      <td>7.80</td>\n",
       "    </tr>\n",
       "    <tr>\n",
       "      <th>3</th>\n",
       "      <td>INV-40973500083</td>\n",
       "      <td>10/14/2021</td>\n",
       "      <td>5102</td>\n",
       "      <td>WILKIE LIQUORS</td>\n",
       "      <td>52314</td>\n",
       "      <td>AMERICAN SCHNAPPS</td>\n",
       "      <td>JIM BEAM BRANDS</td>\n",
       "      <td>82787</td>\n",
       "      <td>DEKUYPER BUTTERSHOTS</td>\n",
       "      <td>1000</td>\n",
       "      <td>7.87</td>\n",
       "      <td>11.81</td>\n",
       "      <td>12</td>\n",
       "      <td>141.72</td>\n",
       "      <td>3.94</td>\n",
       "    </tr>\n",
       "    <tr>\n",
       "      <th>4</th>\n",
       "      <td>INV-17022500013</td>\n",
       "      <td>01/18/2019</td>\n",
       "      <td>2560</td>\n",
       "      <td>HY-VEE FOOD STORE / MARION</td>\n",
       "      <td>52302</td>\n",
       "      <td>WHISKEY LIQUEUR</td>\n",
       "      <td>SAZERAC COMPANY  INC</td>\n",
       "      <td>64863</td>\n",
       "      <td>FIREBALL CINNAMON WHISKEY</td>\n",
       "      <td>200</td>\n",
       "      <td>2.50</td>\n",
       "      <td>3.75</td>\n",
       "      <td>12</td>\n",
       "      <td>45.00</td>\n",
       "      <td>1.25</td>\n",
       "    </tr>\n",
       "    <tr>\n",
       "      <th>...</th>\n",
       "      <td>...</td>\n",
       "      <td>...</td>\n",
       "      <td>...</td>\n",
       "      <td>...</td>\n",
       "      <td>...</td>\n",
       "      <td>...</td>\n",
       "      <td>...</td>\n",
       "      <td>...</td>\n",
       "      <td>...</td>\n",
       "      <td>...</td>\n",
       "      <td>...</td>\n",
       "      <td>...</td>\n",
       "      <td>...</td>\n",
       "      <td>...</td>\n",
       "      <td>...</td>\n",
       "    </tr>\n",
       "    <tr>\n",
       "      <th>159899</th>\n",
       "      <td>INV-20689000058</td>\n",
       "      <td>07/17/2019</td>\n",
       "      <td>2565</td>\n",
       "      <td>HY-VEE FOOD STORE #1636 / SPENCER</td>\n",
       "      <td>51301</td>\n",
       "      <td>AMERICAN CORDIALS &amp; LIQUEURS</td>\n",
       "      <td>LUXCO INC</td>\n",
       "      <td>76488</td>\n",
       "      <td>PARAMOUNT AMARETTO</td>\n",
       "      <td>1750</td>\n",
       "      <td>8.07</td>\n",
       "      <td>12.11</td>\n",
       "      <td>6</td>\n",
       "      <td>72.66</td>\n",
       "      <td>4.04</td>\n",
       "    </tr>\n",
       "    <tr>\n",
       "      <th>159900</th>\n",
       "      <td>S05071400061</td>\n",
       "      <td>04/16/2012</td>\n",
       "      <td>3583</td>\n",
       "      <td>MAC'S LIQUOR AND VIDEOS</td>\n",
       "      <td>50060</td>\n",
       "      <td>COFFEE LIQUEURS</td>\n",
       "      <td>PERNOD RICARD USA/AUSTIN NICHOLS</td>\n",
       "      <td>67527</td>\n",
       "      <td>KAHLUA COFFEE LIQUEUR</td>\n",
       "      <td>1000</td>\n",
       "      <td>14.81</td>\n",
       "      <td>22.22</td>\n",
       "      <td>1</td>\n",
       "      <td>22.22</td>\n",
       "      <td>7.41</td>\n",
       "    </tr>\n",
       "    <tr>\n",
       "      <th>159901</th>\n",
       "      <td>INV-22880300009</td>\n",
       "      <td>10/29/2019</td>\n",
       "      <td>3896</td>\n",
       "      <td>SMOKIN' JOE'S #18 TOBACCO AND LIQUOR OUTLET</td>\n",
       "      <td>52240</td>\n",
       "      <td>IMPORTED DRY GINS</td>\n",
       "      <td>DIAGEO AMERICAS</td>\n",
       "      <td>28866</td>\n",
       "      <td>TANQUERAY GIN</td>\n",
       "      <td>750</td>\n",
       "      <td>13.50</td>\n",
       "      <td>20.25</td>\n",
       "      <td>2</td>\n",
       "      <td>40.50</td>\n",
       "      <td>6.75</td>\n",
       "    </tr>\n",
       "    <tr>\n",
       "      <th>159902</th>\n",
       "      <td>INV-58180900067</td>\n",
       "      <td>05/05/2023</td>\n",
       "      <td>4057</td>\n",
       "      <td>TEQUILA'S LIQUOR STORE</td>\n",
       "      <td>50316</td>\n",
       "      <td>NEUTRAL GRAIN SPIRITS FLAVORED</td>\n",
       "      <td>OLE SMOKY DISTILLERY LLC</td>\n",
       "      <td>80363</td>\n",
       "      <td>OLE SMOKY BANANA PUDDING CREAM MOONSHINE</td>\n",
       "      <td>750</td>\n",
       "      <td>13.00</td>\n",
       "      <td>19.50</td>\n",
       "      <td>3</td>\n",
       "      <td>58.50</td>\n",
       "      <td>6.50</td>\n",
       "    </tr>\n",
       "    <tr>\n",
       "      <th>159903</th>\n",
       "      <td>INV-64335600006</td>\n",
       "      <td>11/16/2023</td>\n",
       "      <td>5371</td>\n",
       "      <td>STATE FOOD MART</td>\n",
       "      <td>52722</td>\n",
       "      <td>STRAIGHT BOURBON WHISKIES</td>\n",
       "      <td>JIM BEAM BRANDS</td>\n",
       "      <td>20116</td>\n",
       "      <td>OLD GRAND DAD 114PRF</td>\n",
       "      <td>750</td>\n",
       "      <td>13.84</td>\n",
       "      <td>20.76</td>\n",
       "      <td>3</td>\n",
       "      <td>62.28</td>\n",
       "      <td>6.92</td>\n",
       "    </tr>\n",
       "  </tbody>\n",
       "</table>\n",
       "<p>159904 rows × 15 columns</p>\n",
       "</div>"
      ],
      "text/plain": [
       "       Invoice/Item Number        Date  Store Number  \\\n",
       "0          INV-59108400026  06/06/2023          3723   \n",
       "1             S16879800057  01/16/2014          3926   \n",
       "2          INV-05301100019  06/05/2017          3829   \n",
       "3          INV-40973500083  10/14/2021          5102   \n",
       "4          INV-17022500013  01/18/2019          2560   \n",
       "...                    ...         ...           ...   \n",
       "159899     INV-20689000058  07/17/2019          2565   \n",
       "159900        S05071400061  04/16/2012          3583   \n",
       "159901     INV-22880300009  10/29/2019          3896   \n",
       "159902     INV-58180900067  05/05/2023          4057   \n",
       "159903     INV-64335600006  11/16/2023          5371   \n",
       "\n",
       "                                         Store Name Zip Code  \\\n",
       "0                                J D SPIRITS LIQUOR    51040   \n",
       "1                       LIQUOR DOWNTOWN / IOWA CITY    52240   \n",
       "2                          GARY'S FOODS / MT VERNON    52314   \n",
       "3                                    WILKIE LIQUORS    52314   \n",
       "4                        HY-VEE FOOD STORE / MARION    52302   \n",
       "...                                             ...      ...   \n",
       "159899            HY-VEE FOOD STORE #1636 / SPENCER    51301   \n",
       "159900                      MAC'S LIQUOR AND VIDEOS    50060   \n",
       "159901  SMOKIN' JOE'S #18 TOBACCO AND LIQUOR OUTLET    52240   \n",
       "159902                       TEQUILA'S LIQUOR STORE    50316   \n",
       "159903                              STATE FOOD MART    52722   \n",
       "\n",
       "                         Category Name                       Vendor Name  \\\n",
       "0                STRAIGHT RYE WHISKIES                  INFINIUM SPIRITS   \n",
       "1                       VODKA 80 PROOF                HEAVEN HILL BRANDS   \n",
       "2                    CANADIAN WHISKIES                   DIAGEO AMERICAS   \n",
       "3                    AMERICAN SCHNAPPS                   JIM BEAM BRANDS   \n",
       "4                      WHISKEY LIQUEUR              SAZERAC COMPANY  INC   \n",
       "...                                ...                               ...   \n",
       "159899    AMERICAN CORDIALS & LIQUEURS                         LUXCO INC   \n",
       "159900                 COFFEE LIQUEURS  PERNOD RICARD USA/AUSTIN NICHOLS   \n",
       "159901               IMPORTED DRY GINS                   DIAGEO AMERICAS   \n",
       "159902  NEUTRAL GRAIN SPIRITS FLAVORED          OLE SMOKY DISTILLERY LLC   \n",
       "159903       STRAIGHT BOURBON WHISKIES                   JIM BEAM BRANDS   \n",
       "\n",
       "        Item Number                          Item Description  \\\n",
       "0             27102                         TEMPLETON RYE 4YR   \n",
       "1             35416                    BURNETT'S VODKA 80 PRF   \n",
       "2             11296                               CROWN ROYAL   \n",
       "3             82787                      DEKUYPER BUTTERSHOTS   \n",
       "4             64863                 FIREBALL CINNAMON WHISKEY   \n",
       "...             ...                                       ...   \n",
       "159899        76488                        PARAMOUNT AMARETTO   \n",
       "159900        67527                     KAHLUA COFFEE LIQUEUR   \n",
       "159901        28866                             TANQUERAY GIN   \n",
       "159902        80363  OLE SMOKY BANANA PUDDING CREAM MOONSHINE   \n",
       "159903        20116                      OLD GRAND DAD 114PRF   \n",
       "\n",
       "        Bottle Volume (ml)  State Bottle Cost  State Bottle Retail  \\\n",
       "0                      750              18.09                27.14   \n",
       "1                      750               4.84                 7.26   \n",
       "2                      750              15.59                23.39   \n",
       "3                     1000               7.87                11.81   \n",
       "4                      200               2.50                 3.75   \n",
       "...                    ...                ...                  ...   \n",
       "159899                1750               8.07                12.11   \n",
       "159900                1000              14.81                22.22   \n",
       "159901                 750              13.50                20.25   \n",
       "159902                 750              13.00                19.50   \n",
       "159903                 750              13.84                20.76   \n",
       "\n",
       "        Bottles Sold  Sale (Dollars)  profitable_bottles  \n",
       "0                  2           54.28                9.05  \n",
       "1                 12           87.12                2.42  \n",
       "2                  6          135.66                7.80  \n",
       "3                 12          141.72                3.94  \n",
       "4                 12           45.00                1.25  \n",
       "...              ...             ...                 ...  \n",
       "159899             6           72.66                4.04  \n",
       "159900             1           22.22                7.41  \n",
       "159901             2           40.50                6.75  \n",
       "159902             3           58.50                6.50  \n",
       "159903             3           62.28                6.92  \n",
       "\n",
       "[159904 rows x 15 columns]"
      ]
     },
     "execution_count": 80,
     "metadata": {},
     "output_type": "execute_result"
    }
   ],
   "source": [
    "iowa"
   ]
  },
  {
   "cell_type": "code",
   "execution_count": null,
   "id": "83f335ef",
   "metadata": {},
   "outputs": [],
   "source": [
    "# applying above functions with numeric variable from iowa dataset \n",
    "\n",
    "x = iowa['Bottle Volume (ml)']\n",
    "\n",
    "# first getting f hat from ecdf\n",
    "\n",
    "def indicate(x,grid): \n",
    "    ''' Indicator function for computing ECDFs. '''\n",
    "    return x <= grid\n",
    "\n",
    "\n",
    "    # ECDF plot goes here:\n",
    "\n",
    "\n",
    "grid = np.linspace(x.min()-x.std(), x.max()+x.std(), 1000) # making it 1000 points since it is a lot of data \n",
    "ecdf = 0*grid.copy() # Create a space for values\n",
    "\n",
    "for i in x:\n",
    "        F_i = indicate(i,grid)\n",
    "        ecdf += F_i\n",
    "\n",
    "ecdf = ecdf/len(x) # normalize\n",
    "F_hat = ecdf\n"
   ]
  },
  {
   "cell_type": "code",
   "execution_count": 91,
   "id": "98102f10",
   "metadata": {},
   "outputs": [
    {
     "data": {
      "text/plain": [
       "np.float64(751.9055847720869)"
      ]
     },
     "execution_count": 91,
     "metadata": {},
     "output_type": "execute_result"
    }
   ],
   "source": [
    "# computing median\n",
    "\n",
    "compute_quantile(F_hat, grid, 0.5)"
   ]
  },
  {
   "cell_type": "code",
   "execution_count": 92,
   "id": "9060abf9",
   "metadata": {},
   "outputs": [
    {
     "data": {
      "text/plain": [
       "(np.float64(747.9767414997908),\n",
       " np.float64(997.1768219473632),\n",
       " np.float64(249.20008044757242),\n",
       " np.float64(374.1766208284322),\n",
       " np.float64(1370.9769426187218))"
      ]
     },
     "execution_count": 92,
     "metadata": {},
     "output_type": "execute_result"
    }
   ],
   "source": [
    "# computing IQR and whiskers\n",
    "\n",
    "compute_IQR_and_whiskers(F_hat, grid)"
   ]
  },
  {
   "cell_type": "code",
   "execution_count": 93,
   "id": "0373e273",
   "metadata": {},
   "outputs": [
    {
     "data": {
      "text/plain": [
       "((np.float64(747.9767414997908),\n",
       "  np.float64(997.1768219473632),\n",
       "  np.float64(249.20008044757242),\n",
       "  np.float64(374.1766208284322),\n",
       "  np.float64(1370.9769426187218)),\n",
       " np.float64(751.9055847720869))"
      ]
     },
     "execution_count": 93,
     "metadata": {},
     "output_type": "execute_result"
    }
   ],
   "source": [
    "# computing 5 number summary\n",
    "\n",
    "five_number_summary(F_hat, grid)"
   ]
  },
  {
   "cell_type": "code",
   "execution_count": 94,
   "id": "7180d0ee",
   "metadata": {},
   "outputs": [
    {
     "data": {
      "application/vnd.microsoft.datawrangler.viewer.v0+json": {
       "columns": [
        {
         "name": "index",
         "rawType": "int64",
         "type": "integer"
        },
        {
         "name": "Bottle Volume (ml)",
         "rawType": "bool",
         "type": "boolean"
        }
       ],
       "ref": "af0dd8e1-11cf-41c1-a9f0-3bd93369c042",
       "rows": [
        [
         "0",
         "False"
        ],
        [
         "1",
         "False"
        ],
        [
         "2",
         "False"
        ],
        [
         "3",
         "False"
        ],
        [
         "4",
         "True"
        ],
        [
         "5",
         "False"
        ],
        [
         "6",
         "False"
        ],
        [
         "7",
         "False"
        ],
        [
         "8",
         "False"
        ],
        [
         "9",
         "False"
        ],
        [
         "10",
         "False"
        ],
        [
         "11",
         "False"
        ],
        [
         "12",
         "False"
        ],
        [
         "13",
         "False"
        ],
        [
         "14",
         "True"
        ],
        [
         "15",
         "True"
        ],
        [
         "16",
         "False"
        ],
        [
         "17",
         "True"
        ],
        [
         "18",
         "True"
        ],
        [
         "19",
         "False"
        ],
        [
         "20",
         "False"
        ],
        [
         "21",
         "False"
        ],
        [
         "22",
         "False"
        ],
        [
         "23",
         "True"
        ],
        [
         "24",
         "False"
        ],
        [
         "25",
         "False"
        ],
        [
         "26",
         "False"
        ],
        [
         "27",
         "False"
        ],
        [
         "28",
         "False"
        ],
        [
         "29",
         "False"
        ],
        [
         "30",
         "False"
        ],
        [
         "31",
         "False"
        ],
        [
         "32",
         "False"
        ],
        [
         "33",
         "False"
        ],
        [
         "34",
         "True"
        ],
        [
         "35",
         "False"
        ],
        [
         "36",
         "False"
        ],
        [
         "37",
         "False"
        ],
        [
         "38",
         "True"
        ],
        [
         "39",
         "False"
        ],
        [
         "40",
         "False"
        ],
        [
         "41",
         "False"
        ],
        [
         "42",
         "False"
        ],
        [
         "43",
         "False"
        ],
        [
         "44",
         "False"
        ],
        [
         "45",
         "False"
        ],
        [
         "46",
         "True"
        ],
        [
         "47",
         "False"
        ],
        [
         "48",
         "False"
        ],
        [
         "49",
         "False"
        ]
       ],
       "shape": {
        "columns": 1,
        "rows": 159904
       }
      },
      "text/plain": [
       "0         False\n",
       "1         False\n",
       "2         False\n",
       "3         False\n",
       "4          True\n",
       "          ...  \n",
       "159899     True\n",
       "159900    False\n",
       "159901    False\n",
       "159902    False\n",
       "159903    False\n",
       "Name: Bottle Volume (ml), Length: 159904, dtype: bool"
      ]
     },
     "execution_count": 94,
     "metadata": {},
     "output_type": "execute_result"
    }
   ],
   "source": [
    "# computing boolean outliers\n",
    "\n",
    "outliers(F_hat, grid, x)"
   ]
  },
  {
   "cell_type": "code",
   "execution_count": 95,
   "id": "381b74f4",
   "metadata": {},
   "outputs": [
    {
     "data": {
      "application/vnd.microsoft.datawrangler.viewer.v0+json": {
       "columns": [
        {
         "name": "index",
         "rawType": "object",
         "type": "string"
        },
        {
         "name": "Bottle Volume (ml)",
         "rawType": "float64",
         "type": "float"
        }
       ],
       "ref": "c55f60a8-c302-4bc8-ae59-7e7535d725d8",
       "rows": [
        [
         "count",
         "159904.0"
        ],
        [
         "mean",
         "869.5927368921352"
        ],
        [
         "std",
         "513.8128184052249"
        ],
        [
         "min",
         "20.0"
        ],
        [
         "25%",
         "750.0"
        ],
        [
         "50%",
         "750.0"
        ],
        [
         "75%",
         "1000.0"
        ],
        [
         "max",
         "6000.0"
        ]
       ],
       "shape": {
        "columns": 1,
        "rows": 8
       }
      },
      "text/plain": [
       "count    159904.000000\n",
       "mean        869.592737\n",
       "std         513.812818\n",
       "min          20.000000\n",
       "25%         750.000000\n",
       "50%         750.000000\n",
       "75%        1000.000000\n",
       "max        6000.000000\n",
       "Name: Bottle Volume (ml), dtype: float64"
      ]
     },
     "execution_count": 95,
     "metadata": {},
     "output_type": "execute_result"
    }
   ],
   "source": [
    "x.describe()"
   ]
  },
  {
   "cell_type": "code",
   "execution_count": 96,
   "id": "6b96ad8c",
   "metadata": {},
   "outputs": [
    {
     "data": {
      "text/plain": [
       "<Axes: xlabel='Bottle Volume (ml)'>"
      ]
     },
     "execution_count": 96,
     "metadata": {},
     "output_type": "execute_result"
    },
    {
     "data": {
      "image/png": "[encoded data removed]",
      "text/plain": [
       "<Figure size 640x480 with 1 Axes>"
      ]
     },
     "metadata": {},
     "output_type": "display_data"
    }
   ],
   "source": [
    "sns.boxplot(x, orient='h')"
   ]
  },
  {
   "cell_type": "markdown",
   "id": "8e21f340",
   "metadata": {},
   "source": [
    "*According to both the describe and boxplots, it appears that the numbers from the functions were fairly similar. It looks like they were off by a little, but I think that probably had to do with the way the functions versus describe were caulcating their values under the hood. I think that changing around the amount of data points included in the ECDF would be able to either diverge from or become even more similar to the numbers calculated in describe.*"
   ]
  },
  {
   "cell_type": "markdown",
   "id": "99f4c407",
   "metadata": {},
   "source": [
    "5. The kernel density estimator captures the concentration of the data around various points, and is defined as\n",
    "$$\n",
    "\\hat{f}_{N,h}(z) = \\frac{1}{N} \\sum_{i=1}^N \\frac{1}{h} k \\left( \\frac{x_i - z}{h}\\right)\n",
    "$$\n",
    "where $h$ is the bandwidth and $k()$ is one of the kernel functions from the class materials (Gaussian, Epanechnikov, uniform, triangular).\n",
    "\n",
    "- Write a function that takes the bandwidth $h$ as given, and computes and plots $\\hat{f}_{N,h}(z)$, for the kernels listed in the slides\n",
    "- Write a function that computes the plug-in bandwidth\n",
    "- Use your functions to analyze some numeric variables from a dataset of your choice, using a variety of bandwidths\n",
    "- Compare bandwidths that are greater or less than the plug-in value with the results for the plug-in value. When does the KDE appear to be overfitting? Underfitting?"
   ]
  }
 ],
 "metadata": {
  "kernelspec": {
   "display_name": "ds5030",
   "language": "python",
   "name": "python3"
  },
  "language_info": {
   "codemirror_mode": {
    "name": "ipython",
    "version": 3
   },
   "file_extension": ".py",
   "mimetype": "text/x-python",
   "name": "python",
   "nbconvert_exporter": "python",
   "pygments_lexer": "ipython3",
   "version": "3.13.7"
  }
 },
 "nbformat": 4,
 "nbformat_minor": 5
}
